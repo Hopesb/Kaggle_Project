{
 "cells": [
  {
   "cell_type": "markdown",
   "id": "75b23f30",
   "metadata": {
    "papermill": {
     "duration": 0.004994,
     "end_time": "2025-02-13T13:22:07.200447",
     "exception": false,
     "start_time": "2025-02-13T13:22:07.195453",
     "status": "completed"
    },
    "tags": []
   },
   "source": [
    "# Backpack Predition"
   ]
  },
  {
   "cell_type": "code",
   "execution_count": 1,
   "id": "a1ebc323",
   "metadata": {
    "execution": {
     "iopub.execute_input": "2025-02-13T13:22:07.211413Z",
     "iopub.status.busy": "2025-02-13T13:22:07.211001Z",
     "iopub.status.idle": "2025-02-13T13:22:16.809673Z",
     "shell.execute_reply": "2025-02-13T13:22:16.808571Z"
    },
    "papermill": {
     "duration": 9.606698,
     "end_time": "2025-02-13T13:22:16.812101",
     "exception": false,
     "start_time": "2025-02-13T13:22:07.205403",
     "status": "completed"
    },
    "tags": []
   },
   "outputs": [],
   "source": [
    "# import all necessary libraries.\n",
    "import pandas as pd\n",
    "import numpy as np\n",
    "\n",
    "import matplotlib.pyplot as plt\n",
    "import seaborn as sns\n",
    "import plotly_express as px\n",
    "\n",
    "import sklearn\n",
    "from sklearn.metrics import mean_squared_error\n",
    "from category_encoders import OneHotEncoder, OrdinalEncoder\n",
    "from sklearn.model_selection import train_test_split\n",
    "from sklearn.preprocessing import StandardScaler, MinMaxScaler, LabelBinarizer\n",
    "from sklearn.pipeline import make_pipeline\n",
    "from sklearn.ensemble import VotingRegressor\n",
    "from catboost import CatBoostRegressor\n",
    "from lightgbm import LGBMRegressor\n",
    "from xgboost import XGBRegressor\n",
    "from tqdm.notebook import tqdm\n",
    "import optuna\n",
    "import warnings\n",
    "warnings.simplefilter(\"ignore\")"
   ]
  },
  {
   "cell_type": "code",
   "execution_count": 2,
   "id": "e47594a9",
   "metadata": {
    "execution": {
     "iopub.execute_input": "2025-02-13T13:22:16.823203Z",
     "iopub.status.busy": "2025-02-13T13:22:16.822397Z",
     "iopub.status.idle": "2025-02-13T13:22:17.920672Z",
     "shell.execute_reply": "2025-02-13T13:22:17.919610Z"
    },
    "papermill": {
     "duration": 1.105836,
     "end_time": "2025-02-13T13:22:17.922833",
     "exception": false,
     "start_time": "2025-02-13T13:22:16.816997",
     "status": "completed"
    },
    "tags": []
   },
   "outputs": [],
   "source": [
    "# Reading the files\n",
    "test_filepath = \"/kaggle/input/playground-series-s5e2/test.csv\"\n",
    "train_filepath = \"/kaggle/input/playground-series-s5e2/train.csv\"\n",
    "df = pd.read_csv(train_filepath, index_col=\"id\")\n",
    "df_test = pd.read_csv(test_filepath, index_col=\"id\")"
   ]
  },
  {
   "cell_type": "markdown",
   "id": "a73b6211",
   "metadata": {
    "papermill": {
     "duration": 0.004065,
     "end_time": "2025-02-13T13:22:17.931629",
     "exception": false,
     "start_time": "2025-02-13T13:22:17.927564",
     "status": "completed"
    },
    "tags": []
   },
   "source": [
    "## Explore"
   ]
  },
  {
   "cell_type": "code",
   "execution_count": 3,
   "id": "f5aa369b",
   "metadata": {
    "execution": {
     "iopub.execute_input": "2025-02-13T13:22:17.941680Z",
     "iopub.status.busy": "2025-02-13T13:22:17.941283Z",
     "iopub.status.idle": "2025-02-13T13:22:17.964517Z",
     "shell.execute_reply": "2025-02-13T13:22:17.963417Z"
    },
    "papermill": {
     "duration": 0.03036,
     "end_time": "2025-02-13T13:22:17.966372",
     "exception": false,
     "start_time": "2025-02-13T13:22:17.936012",
     "status": "completed"
    },
    "tags": []
   },
   "outputs": [
    {
     "name": "stdout",
     "output_type": "stream",
     "text": [
      "(300000, 10)\n"
     ]
    },
    {
     "data": {
      "text/html": [
       "<div>\n",
       "<style scoped>\n",
       "    .dataframe tbody tr th:only-of-type {\n",
       "        vertical-align: middle;\n",
       "    }\n",
       "\n",
       "    .dataframe tbody tr th {\n",
       "        vertical-align: top;\n",
       "    }\n",
       "\n",
       "    .dataframe thead th {\n",
       "        text-align: right;\n",
       "    }\n",
       "</style>\n",
       "<table border=\"1\" class=\"dataframe\">\n",
       "  <thead>\n",
       "    <tr style=\"text-align: right;\">\n",
       "      <th></th>\n",
       "      <th>Brand</th>\n",
       "      <th>Material</th>\n",
       "      <th>Size</th>\n",
       "      <th>Compartments</th>\n",
       "      <th>Laptop Compartment</th>\n",
       "      <th>Waterproof</th>\n",
       "      <th>Style</th>\n",
       "      <th>Color</th>\n",
       "      <th>Weight Capacity (kg)</th>\n",
       "      <th>Price</th>\n",
       "    </tr>\n",
       "    <tr>\n",
       "      <th>id</th>\n",
       "      <th></th>\n",
       "      <th></th>\n",
       "      <th></th>\n",
       "      <th></th>\n",
       "      <th></th>\n",
       "      <th></th>\n",
       "      <th></th>\n",
       "      <th></th>\n",
       "      <th></th>\n",
       "      <th></th>\n",
       "    </tr>\n",
       "  </thead>\n",
       "  <tbody>\n",
       "    <tr>\n",
       "      <th>0</th>\n",
       "      <td>Jansport</td>\n",
       "      <td>Leather</td>\n",
       "      <td>Medium</td>\n",
       "      <td>7.0</td>\n",
       "      <td>Yes</td>\n",
       "      <td>No</td>\n",
       "      <td>Tote</td>\n",
       "      <td>Black</td>\n",
       "      <td>11.611723</td>\n",
       "      <td>112.15875</td>\n",
       "    </tr>\n",
       "    <tr>\n",
       "      <th>1</th>\n",
       "      <td>Jansport</td>\n",
       "      <td>Canvas</td>\n",
       "      <td>Small</td>\n",
       "      <td>10.0</td>\n",
       "      <td>Yes</td>\n",
       "      <td>Yes</td>\n",
       "      <td>Messenger</td>\n",
       "      <td>Green</td>\n",
       "      <td>27.078537</td>\n",
       "      <td>68.88056</td>\n",
       "    </tr>\n",
       "    <tr>\n",
       "      <th>2</th>\n",
       "      <td>Under Armour</td>\n",
       "      <td>Leather</td>\n",
       "      <td>Small</td>\n",
       "      <td>2.0</td>\n",
       "      <td>Yes</td>\n",
       "      <td>No</td>\n",
       "      <td>Messenger</td>\n",
       "      <td>Red</td>\n",
       "      <td>16.643760</td>\n",
       "      <td>39.17320</td>\n",
       "    </tr>\n",
       "    <tr>\n",
       "      <th>3</th>\n",
       "      <td>Nike</td>\n",
       "      <td>Nylon</td>\n",
       "      <td>Small</td>\n",
       "      <td>8.0</td>\n",
       "      <td>Yes</td>\n",
       "      <td>No</td>\n",
       "      <td>Messenger</td>\n",
       "      <td>Green</td>\n",
       "      <td>12.937220</td>\n",
       "      <td>80.60793</td>\n",
       "    </tr>\n",
       "    <tr>\n",
       "      <th>4</th>\n",
       "      <td>Adidas</td>\n",
       "      <td>Canvas</td>\n",
       "      <td>Medium</td>\n",
       "      <td>1.0</td>\n",
       "      <td>Yes</td>\n",
       "      <td>Yes</td>\n",
       "      <td>Messenger</td>\n",
       "      <td>Green</td>\n",
       "      <td>17.749338</td>\n",
       "      <td>86.02312</td>\n",
       "    </tr>\n",
       "  </tbody>\n",
       "</table>\n",
       "</div>"
      ],
      "text/plain": [
       "           Brand Material    Size  Compartments Laptop Compartment Waterproof  \\\n",
       "id                                                                              \n",
       "0       Jansport  Leather  Medium           7.0                Yes         No   \n",
       "1       Jansport   Canvas   Small          10.0                Yes        Yes   \n",
       "2   Under Armour  Leather   Small           2.0                Yes         No   \n",
       "3           Nike    Nylon   Small           8.0                Yes         No   \n",
       "4         Adidas   Canvas  Medium           1.0                Yes        Yes   \n",
       "\n",
       "        Style  Color  Weight Capacity (kg)      Price  \n",
       "id                                                     \n",
       "0        Tote  Black             11.611723  112.15875  \n",
       "1   Messenger  Green             27.078537   68.88056  \n",
       "2   Messenger    Red             16.643760   39.17320  \n",
       "3   Messenger  Green             12.937220   80.60793  \n",
       "4   Messenger  Green             17.749338   86.02312  "
      ]
     },
     "execution_count": 3,
     "metadata": {},
     "output_type": "execute_result"
    }
   ],
   "source": [
    "print(df.shape)\n",
    "df.head()"
   ]
  },
  {
   "cell_type": "code",
   "execution_count": 4,
   "id": "0b897dfc",
   "metadata": {
    "execution": {
     "iopub.execute_input": "2025-02-13T13:22:17.977299Z",
     "iopub.status.busy": "2025-02-13T13:22:17.976917Z",
     "iopub.status.idle": "2025-02-13T13:22:18.102765Z",
     "shell.execute_reply": "2025-02-13T13:22:18.101391Z"
    },
    "papermill": {
     "duration": 0.133488,
     "end_time": "2025-02-13T13:22:18.104772",
     "exception": false,
     "start_time": "2025-02-13T13:22:17.971284",
     "status": "completed"
    },
    "tags": []
   },
   "outputs": [
    {
     "name": "stdout",
     "output_type": "stream",
     "text": [
      "<class 'pandas.core.frame.DataFrame'>\n",
      "Index: 300000 entries, 0 to 299999\n",
      "Data columns (total 10 columns):\n",
      " #   Column                Non-Null Count   Dtype  \n",
      "---  ------                --------------   -----  \n",
      " 0   Brand                 290295 non-null  object \n",
      " 1   Material              291653 non-null  object \n",
      " 2   Size                  293405 non-null  object \n",
      " 3   Compartments          300000 non-null  float64\n",
      " 4   Laptop Compartment    292556 non-null  object \n",
      " 5   Waterproof            292950 non-null  object \n",
      " 6   Style                 292030 non-null  object \n",
      " 7   Color                 290050 non-null  object \n",
      " 8   Weight Capacity (kg)  299862 non-null  float64\n",
      " 9   Price                 300000 non-null  float64\n",
      "dtypes: float64(3), object(7)\n",
      "memory usage: 25.2+ MB\n"
     ]
    }
   ],
   "source": [
    "df.info()"
   ]
  },
  {
   "cell_type": "code",
   "execution_count": 5,
   "id": "280608dd",
   "metadata": {
    "execution": {
     "iopub.execute_input": "2025-02-13T13:22:18.116685Z",
     "iopub.status.busy": "2025-02-13T13:22:18.116109Z",
     "iopub.status.idle": "2025-02-13T13:22:18.229566Z",
     "shell.execute_reply": "2025-02-13T13:22:18.228412Z"
    },
    "papermill": {
     "duration": 0.121648,
     "end_time": "2025-02-13T13:22:18.231466",
     "exception": false,
     "start_time": "2025-02-13T13:22:18.109818",
     "status": "completed"
    },
    "tags": []
   },
   "outputs": [
    {
     "data": {
      "text/plain": [
       "Compartments               0\n",
       "Price                      0\n",
       "Weight Capacity (kg)     138\n",
       "Size                    6595\n",
       "Waterproof              7050\n",
       "Laptop Compartment      7444\n",
       "Style                   7970\n",
       "Material                8347\n",
       "Brand                   9705\n",
       "Color                   9950\n",
       "dtype: int64"
      ]
     },
     "execution_count": 5,
     "metadata": {},
     "output_type": "execute_result"
    }
   ],
   "source": [
    "df.isnull().sum().sort_values()"
   ]
  },
  {
   "cell_type": "code",
   "execution_count": 6,
   "id": "b453f3c6",
   "metadata": {
    "execution": {
     "iopub.execute_input": "2025-02-13T13:22:18.243102Z",
     "iopub.status.busy": "2025-02-13T13:22:18.242759Z",
     "iopub.status.idle": "2025-02-13T13:22:18.361667Z",
     "shell.execute_reply": "2025-02-13T13:22:18.360386Z"
    },
    "papermill": {
     "duration": 0.127222,
     "end_time": "2025-02-13T13:22:18.364049",
     "exception": false,
     "start_time": "2025-02-13T13:22:18.236827",
     "status": "completed"
    },
    "tags": []
   },
   "outputs": [
    {
     "data": {
      "text/plain": [
       "Laptop Compartment           2\n",
       "Waterproof                   2\n",
       "Size                         3\n",
       "Style                        3\n",
       "Material                     4\n",
       "Brand                        5\n",
       "Color                        6\n",
       "Compartments                10\n",
       "Price                    48212\n",
       "Weight Capacity (kg)    181596\n",
       "dtype: int64"
      ]
     },
     "execution_count": 6,
     "metadata": {},
     "output_type": "execute_result"
    }
   ],
   "source": [
    "df.nunique().sort_values()"
   ]
  },
  {
   "cell_type": "code",
   "execution_count": 7,
   "id": "965b08e4",
   "metadata": {
    "execution": {
     "iopub.execute_input": "2025-02-13T13:22:18.376096Z",
     "iopub.status.busy": "2025-02-13T13:22:18.375730Z",
     "iopub.status.idle": "2025-02-13T13:22:18.441862Z",
     "shell.execute_reply": "2025-02-13T13:22:18.440446Z"
    },
    "papermill": {
     "duration": 0.074195,
     "end_time": "2025-02-13T13:22:18.443827",
     "exception": false,
     "start_time": "2025-02-13T13:22:18.369632",
     "status": "completed"
    },
    "tags": []
   },
   "outputs": [
    {
     "data": {
      "text/html": [
       "<div>\n",
       "<style scoped>\n",
       "    .dataframe tbody tr th:only-of-type {\n",
       "        vertical-align: middle;\n",
       "    }\n",
       "\n",
       "    .dataframe tbody tr th {\n",
       "        vertical-align: top;\n",
       "    }\n",
       "\n",
       "    .dataframe thead th {\n",
       "        text-align: right;\n",
       "    }\n",
       "</style>\n",
       "<table border=\"1\" class=\"dataframe\">\n",
       "  <thead>\n",
       "    <tr style=\"text-align: right;\">\n",
       "      <th></th>\n",
       "      <th>Compartments</th>\n",
       "      <th>Weight Capacity (kg)</th>\n",
       "      <th>Price</th>\n",
       "    </tr>\n",
       "  </thead>\n",
       "  <tbody>\n",
       "    <tr>\n",
       "      <th>count</th>\n",
       "      <td>300000.000000</td>\n",
       "      <td>299862.000000</td>\n",
       "      <td>300000.000000</td>\n",
       "    </tr>\n",
       "    <tr>\n",
       "      <th>mean</th>\n",
       "      <td>5.443590</td>\n",
       "      <td>18.029994</td>\n",
       "      <td>81.411107</td>\n",
       "    </tr>\n",
       "    <tr>\n",
       "      <th>std</th>\n",
       "      <td>2.890766</td>\n",
       "      <td>6.966914</td>\n",
       "      <td>39.039340</td>\n",
       "    </tr>\n",
       "    <tr>\n",
       "      <th>min</th>\n",
       "      <td>1.000000</td>\n",
       "      <td>5.000000</td>\n",
       "      <td>15.000000</td>\n",
       "    </tr>\n",
       "    <tr>\n",
       "      <th>25%</th>\n",
       "      <td>3.000000</td>\n",
       "      <td>12.097867</td>\n",
       "      <td>47.384620</td>\n",
       "    </tr>\n",
       "    <tr>\n",
       "      <th>50%</th>\n",
       "      <td>5.000000</td>\n",
       "      <td>18.068614</td>\n",
       "      <td>80.956120</td>\n",
       "    </tr>\n",
       "    <tr>\n",
       "      <th>75%</th>\n",
       "      <td>8.000000</td>\n",
       "      <td>24.002375</td>\n",
       "      <td>115.018160</td>\n",
       "    </tr>\n",
       "    <tr>\n",
       "      <th>max</th>\n",
       "      <td>10.000000</td>\n",
       "      <td>30.000000</td>\n",
       "      <td>150.000000</td>\n",
       "    </tr>\n",
       "  </tbody>\n",
       "</table>\n",
       "</div>"
      ],
      "text/plain": [
       "        Compartments  Weight Capacity (kg)          Price\n",
       "count  300000.000000         299862.000000  300000.000000\n",
       "mean        5.443590             18.029994      81.411107\n",
       "std         2.890766              6.966914      39.039340\n",
       "min         1.000000              5.000000      15.000000\n",
       "25%         3.000000             12.097867      47.384620\n",
       "50%         5.000000             18.068614      80.956120\n",
       "75%         8.000000             24.002375     115.018160\n",
       "max        10.000000             30.000000     150.000000"
      ]
     },
     "execution_count": 7,
     "metadata": {},
     "output_type": "execute_result"
    }
   ],
   "source": [
    "df.describe()"
   ]
  },
  {
   "cell_type": "code",
   "execution_count": 8,
   "id": "843843ca",
   "metadata": {
    "execution": {
     "iopub.execute_input": "2025-02-13T13:22:18.456662Z",
     "iopub.status.busy": "2025-02-13T13:22:18.456209Z",
     "iopub.status.idle": "2025-02-13T13:22:18.463157Z",
     "shell.execute_reply": "2025-02-13T13:22:18.462101Z"
    },
    "papermill": {
     "duration": 0.015858,
     "end_time": "2025-02-13T13:22:18.465118",
     "exception": false,
     "start_time": "2025-02-13T13:22:18.449260",
     "status": "completed"
    },
    "tags": []
   },
   "outputs": [],
   "source": [
    "def wrangle(filepath):\n",
    "    df = pd.read_csv(filepath, index_col= \"id\")\n",
    "    # Fill the weight with mean.\n",
    "    df[\"Weight Capacity (kg)\"] = df[\"Weight Capacity (kg)\"].fillna(df[\"Weight Capacity (kg)\"].mean())\n",
    "    # fill the color.\n",
    "    df[\"Color\"] = df[\"Color\"].fillna(\"Multi-color\")\n",
    "    # fill the Brand with unknown brand.\n",
    "    df[\"Brand\"] = df[\"Brand\"].fillna(\"Unknown\")\n",
    "    # fill the size.\n",
    "    df[\"Size\"] = df[\"Size\"].fillna(\"Others\")\n",
    "    # fill the waterproof.\n",
    "    df[\"Waterproof\"] = df[\"Waterproof\"].fillna(\"Undetermined\")\n",
    "    # fill the Laptop compartment.\n",
    "    df[\"Laptop Compartment\"] = df[\"Laptop Compartment\"].fillna(\"Unknown\")\n",
    "    # Fill the material ans style.\n",
    "    df[\"Material\"] = df[\"Material\"].fillna(\"Unknown\")\n",
    "    df[\"Style\"] = df[\"Style\"].fillna(\"Unknown\")\n",
    "\n",
    "    df[\"Compartments\"] = df[\"Compartments\"].astype(int)\n",
    "    df[\"Weight Capacity (kg)\"] = round(df[\"Weight Capacity (kg)\"], 2)\n",
    "    df[\"Weight Class\"] = df[\"Weight Capacity (kg)\"].apply(lambda x: \"Minimum\" if x < 10 else(\n",
    "        \"Above_Minimum\" if x < 15 else(\n",
    "            \"Medium\" if x < 25 else \"High\"\n",
    "        )\n",
    "    ))\n",
    "\n",
    "    return df"
   ]
  },
  {
   "cell_type": "code",
   "execution_count": 9,
   "id": "7212966e",
   "metadata": {
    "execution": {
     "iopub.execute_input": "2025-02-13T13:22:18.476991Z",
     "iopub.status.busy": "2025-02-13T13:22:18.476648Z",
     "iopub.status.idle": "2025-02-13T13:22:19.327718Z",
     "shell.execute_reply": "2025-02-13T13:22:19.326367Z"
    },
    "papermill": {
     "duration": 0.859567,
     "end_time": "2025-02-13T13:22:19.330178",
     "exception": false,
     "start_time": "2025-02-13T13:22:18.470611",
     "status": "completed"
    },
    "tags": []
   },
   "outputs": [
    {
     "data": {
      "text/plain": [
       "Brand                   0\n",
       "Material                0\n",
       "Size                    0\n",
       "Compartments            0\n",
       "Laptop Compartment      0\n",
       "Waterproof              0\n",
       "Style                   0\n",
       "Color                   0\n",
       "Weight Capacity (kg)    0\n",
       "Price                   0\n",
       "Weight Class            0\n",
       "dtype: int64"
      ]
     },
     "execution_count": 9,
     "metadata": {},
     "output_type": "execute_result"
    }
   ],
   "source": [
    "df = wrangle(train_filepath)\n",
    "df.isnull().sum()"
   ]
  },
  {
   "cell_type": "code",
   "execution_count": 10,
   "id": "2511c7c4",
   "metadata": {
    "execution": {
     "iopub.execute_input": "2025-02-13T13:22:19.342953Z",
     "iopub.status.busy": "2025-02-13T13:22:19.342213Z",
     "iopub.status.idle": "2025-02-13T13:22:19.357771Z",
     "shell.execute_reply": "2025-02-13T13:22:19.356750Z"
    },
    "papermill": {
     "duration": 0.024013,
     "end_time": "2025-02-13T13:22:19.359589",
     "exception": false,
     "start_time": "2025-02-13T13:22:19.335576",
     "status": "completed"
    },
    "tags": []
   },
   "outputs": [
    {
     "data": {
      "text/html": [
       "<div>\n",
       "<style scoped>\n",
       "    .dataframe tbody tr th:only-of-type {\n",
       "        vertical-align: middle;\n",
       "    }\n",
       "\n",
       "    .dataframe tbody tr th {\n",
       "        vertical-align: top;\n",
       "    }\n",
       "\n",
       "    .dataframe thead th {\n",
       "        text-align: right;\n",
       "    }\n",
       "</style>\n",
       "<table border=\"1\" class=\"dataframe\">\n",
       "  <thead>\n",
       "    <tr style=\"text-align: right;\">\n",
       "      <th></th>\n",
       "      <th>Brand</th>\n",
       "      <th>Material</th>\n",
       "      <th>Size</th>\n",
       "      <th>Compartments</th>\n",
       "      <th>Laptop Compartment</th>\n",
       "      <th>Waterproof</th>\n",
       "      <th>Style</th>\n",
       "      <th>Color</th>\n",
       "      <th>Weight Capacity (kg)</th>\n",
       "      <th>Price</th>\n",
       "      <th>Weight Class</th>\n",
       "    </tr>\n",
       "    <tr>\n",
       "      <th>id</th>\n",
       "      <th></th>\n",
       "      <th></th>\n",
       "      <th></th>\n",
       "      <th></th>\n",
       "      <th></th>\n",
       "      <th></th>\n",
       "      <th></th>\n",
       "      <th></th>\n",
       "      <th></th>\n",
       "      <th></th>\n",
       "      <th></th>\n",
       "    </tr>\n",
       "  </thead>\n",
       "  <tbody>\n",
       "    <tr>\n",
       "      <th>0</th>\n",
       "      <td>Jansport</td>\n",
       "      <td>Leather</td>\n",
       "      <td>Medium</td>\n",
       "      <td>7</td>\n",
       "      <td>Yes</td>\n",
       "      <td>No</td>\n",
       "      <td>Tote</td>\n",
       "      <td>Black</td>\n",
       "      <td>11.61</td>\n",
       "      <td>112.15875</td>\n",
       "      <td>Above_Minimum</td>\n",
       "    </tr>\n",
       "    <tr>\n",
       "      <th>1</th>\n",
       "      <td>Jansport</td>\n",
       "      <td>Canvas</td>\n",
       "      <td>Small</td>\n",
       "      <td>10</td>\n",
       "      <td>Yes</td>\n",
       "      <td>Yes</td>\n",
       "      <td>Messenger</td>\n",
       "      <td>Green</td>\n",
       "      <td>27.08</td>\n",
       "      <td>68.88056</td>\n",
       "      <td>High</td>\n",
       "    </tr>\n",
       "    <tr>\n",
       "      <th>2</th>\n",
       "      <td>Under Armour</td>\n",
       "      <td>Leather</td>\n",
       "      <td>Small</td>\n",
       "      <td>2</td>\n",
       "      <td>Yes</td>\n",
       "      <td>No</td>\n",
       "      <td>Messenger</td>\n",
       "      <td>Red</td>\n",
       "      <td>16.64</td>\n",
       "      <td>39.17320</td>\n",
       "      <td>Medium</td>\n",
       "    </tr>\n",
       "    <tr>\n",
       "      <th>3</th>\n",
       "      <td>Nike</td>\n",
       "      <td>Nylon</td>\n",
       "      <td>Small</td>\n",
       "      <td>8</td>\n",
       "      <td>Yes</td>\n",
       "      <td>No</td>\n",
       "      <td>Messenger</td>\n",
       "      <td>Green</td>\n",
       "      <td>12.94</td>\n",
       "      <td>80.60793</td>\n",
       "      <td>Above_Minimum</td>\n",
       "    </tr>\n",
       "    <tr>\n",
       "      <th>4</th>\n",
       "      <td>Adidas</td>\n",
       "      <td>Canvas</td>\n",
       "      <td>Medium</td>\n",
       "      <td>1</td>\n",
       "      <td>Yes</td>\n",
       "      <td>Yes</td>\n",
       "      <td>Messenger</td>\n",
       "      <td>Green</td>\n",
       "      <td>17.75</td>\n",
       "      <td>86.02312</td>\n",
       "      <td>Medium</td>\n",
       "    </tr>\n",
       "  </tbody>\n",
       "</table>\n",
       "</div>"
      ],
      "text/plain": [
       "           Brand Material    Size  Compartments Laptop Compartment Waterproof  \\\n",
       "id                                                                              \n",
       "0       Jansport  Leather  Medium             7                Yes         No   \n",
       "1       Jansport   Canvas   Small            10                Yes        Yes   \n",
       "2   Under Armour  Leather   Small             2                Yes         No   \n",
       "3           Nike    Nylon   Small             8                Yes         No   \n",
       "4         Adidas   Canvas  Medium             1                Yes        Yes   \n",
       "\n",
       "        Style  Color  Weight Capacity (kg)      Price   Weight Class  \n",
       "id                                                                    \n",
       "0        Tote  Black                 11.61  112.15875  Above_Minimum  \n",
       "1   Messenger  Green                 27.08   68.88056           High  \n",
       "2   Messenger    Red                 16.64   39.17320         Medium  \n",
       "3   Messenger  Green                 12.94   80.60793  Above_Minimum  \n",
       "4   Messenger  Green                 17.75   86.02312         Medium  "
      ]
     },
     "execution_count": 10,
     "metadata": {},
     "output_type": "execute_result"
    }
   ],
   "source": [
    "df.head()"
   ]
  },
  {
   "cell_type": "markdown",
   "id": "5b09ac96",
   "metadata": {
    "execution": {
     "iopub.execute_input": "2025-02-12T11:21:24.727092Z",
     "iopub.status.busy": "2025-02-12T11:21:24.726182Z",
     "iopub.status.idle": "2025-02-12T11:21:24.731927Z",
     "shell.execute_reply": "2025-02-12T11:21:24.730394Z",
     "shell.execute_reply.started": "2025-02-12T11:21:24.727055Z"
    },
    "papermill": {
     "duration": 0.005174,
     "end_time": "2025-02-13T13:22:19.370619",
     "exception": false,
     "start_time": "2025-02-13T13:22:19.365445",
     "status": "completed"
    },
    "tags": []
   },
   "source": [
    "## Split Dataset."
   ]
  },
  {
   "cell_type": "code",
   "execution_count": 11,
   "id": "f4b2b030",
   "metadata": {
    "execution": {
     "iopub.execute_input": "2025-02-13T13:22:19.384001Z",
     "iopub.status.busy": "2025-02-13T13:22:19.382896Z",
     "iopub.status.idle": "2025-02-13T13:22:19.523385Z",
     "shell.execute_reply": "2025-02-13T13:22:19.522148Z"
    },
    "papermill": {
     "duration": 0.148922,
     "end_time": "2025-02-13T13:22:19.525444",
     "exception": false,
     "start_time": "2025-02-13T13:22:19.376522",
     "status": "completed"
    },
    "tags": []
   },
   "outputs": [],
   "source": [
    "target = \"Price\"\n",
    "X = df.drop(columns= target)\n",
    "y = df[target]\n",
    "\n",
    "X_train, X_test, y_train, y_test = train_test_split(X, y, test_size=0.2, random_state=42)"
   ]
  },
  {
   "cell_type": "markdown",
   "id": "d31ef026",
   "metadata": {
    "papermill": {
     "duration": 0.005734,
     "end_time": "2025-02-13T13:22:19.536986",
     "exception": false,
     "start_time": "2025-02-13T13:22:19.531252",
     "status": "completed"
    },
    "tags": []
   },
   "source": [
    "## Model."
   ]
  },
  {
   "cell_type": "code",
   "execution_count": 12,
   "id": "334340c7",
   "metadata": {
    "execution": {
     "iopub.execute_input": "2025-02-13T13:22:19.549508Z",
     "iopub.status.busy": "2025-02-13T13:22:19.549073Z",
     "iopub.status.idle": "2025-02-13T13:22:19.556184Z",
     "shell.execute_reply": "2025-02-13T13:22:19.555105Z"
    },
    "papermill": {
     "duration": 0.015408,
     "end_time": "2025-02-13T13:22:19.558027",
     "exception": false,
     "start_time": "2025-02-13T13:22:19.542619",
     "status": "completed"
    },
    "tags": []
   },
   "outputs": [],
   "source": [
    "# Create a function that takes in a list of algortithm and then make the prediction then save the prediction.\n",
    "def score_predict(algorithms, X_train, X_test, y_train, y_test, test_df=None, save=True): \n",
    "\n",
    "    data_dict = {}\n",
    "    # loop throught the algorithms.\n",
    "    for algorithm in tqdm(algorithms, desc=\"Starting\"):\n",
    "        # make the pipeline\n",
    "        model = make_pipeline(\n",
    "            OrdinalEncoder(),\n",
    "            StandardScaler(),\n",
    "            algorithm\n",
    "        )\n",
    "        # Fitting the model.\n",
    "        alg_name = list(model.named_steps.keys())[-1]\n",
    "        print(f\"Fitting the {alg_name}\")\n",
    "        model.fit(X_train, y_train)\n",
    "        # Get the score.\n",
    "        print(\"Making Prediction\")\n",
    "        y_test_pred = model.predict(X_test)\n",
    "        score = np.sqrt(mean_squared_error(y_test, y_test_pred))\n",
    "        data_dict[alg_name] = score\n",
    "\n",
    "        if save == True:\n",
    "            y_pred = model.predict(test_df)\n",
    "            pd.DataFrame({\"Price\": y_pred}, index=test_df.index).to_csv(f\"{alg_name}.csv\")\n",
    "\n",
    "    score_df = pd.DataFrame(data_dict, index=[\"Accuracy\"]).T\n",
    "    return score_df"
   ]
  },
  {
   "cell_type": "code",
   "execution_count": 13,
   "id": "4dc3ffb4",
   "metadata": {
    "execution": {
     "iopub.execute_input": "2025-02-13T13:22:19.570496Z",
     "iopub.status.busy": "2025-02-13T13:22:19.570087Z",
     "iopub.status.idle": "2025-02-13T13:22:20.038426Z",
     "shell.execute_reply": "2025-02-13T13:22:20.037183Z"
    },
    "papermill": {
     "duration": 0.476788,
     "end_time": "2025-02-13T13:22:20.040488",
     "exception": false,
     "start_time": "2025-02-13T13:22:19.563700",
     "status": "completed"
    },
    "tags": []
   },
   "outputs": [],
   "source": [
    "test_df = wrangle(test_filepath)"
   ]
  },
  {
   "cell_type": "code",
   "execution_count": 14,
   "id": "b20641bc",
   "metadata": {
    "execution": {
     "iopub.execute_input": "2025-02-13T13:22:20.055350Z",
     "iopub.status.busy": "2025-02-13T13:22:20.054971Z",
     "iopub.status.idle": "2025-02-13T13:22:47.103093Z",
     "shell.execute_reply": "2025-02-13T13:22:47.101828Z"
    },
    "papermill": {
     "duration": 27.057343,
     "end_time": "2025-02-13T13:22:47.105394",
     "exception": false,
     "start_time": "2025-02-13T13:22:20.048051",
     "status": "completed"
    },
    "tags": []
   },
   "outputs": [
    {
     "data": {
      "application/vnd.jupyter.widget-view+json": {
       "model_id": "c308d1058c4949de93d2e1c20028c869",
       "version_major": 2,
       "version_minor": 0
      },
      "text/plain": [
       "Starting:   0%|          | 0/3 [00:00<?, ?it/s]"
      ]
     },
     "metadata": {},
     "output_type": "display_data"
    },
    {
     "name": "stdout",
     "output_type": "stream",
     "text": [
      "Fitting the lgbmregressor\n",
      "Making Prediction\n",
      "Fitting the xgbregressor\n",
      "Making Prediction\n",
      "Fitting the catboostregressor\n",
      "Making Prediction\n"
     ]
    },
    {
     "data": {
      "text/html": [
       "<div>\n",
       "<style scoped>\n",
       "    .dataframe tbody tr th:only-of-type {\n",
       "        vertical-align: middle;\n",
       "    }\n",
       "\n",
       "    .dataframe tbody tr th {\n",
       "        vertical-align: top;\n",
       "    }\n",
       "\n",
       "    .dataframe thead th {\n",
       "        text-align: right;\n",
       "    }\n",
       "</style>\n",
       "<table border=\"1\" class=\"dataframe\">\n",
       "  <thead>\n",
       "    <tr style=\"text-align: right;\">\n",
       "      <th></th>\n",
       "      <th>Accuracy</th>\n",
       "    </tr>\n",
       "  </thead>\n",
       "  <tbody>\n",
       "    <tr>\n",
       "      <th>lgbmregressor</th>\n",
       "      <td>38.910749</td>\n",
       "    </tr>\n",
       "    <tr>\n",
       "      <th>xgbregressor</th>\n",
       "      <td>39.068247</td>\n",
       "    </tr>\n",
       "    <tr>\n",
       "      <th>catboostregressor</th>\n",
       "      <td>38.962801</td>\n",
       "    </tr>\n",
       "  </tbody>\n",
       "</table>\n",
       "</div>"
      ],
      "text/plain": [
       "                    Accuracy\n",
       "lgbmregressor      38.910749\n",
       "xgbregressor       39.068247\n",
       "catboostregressor  38.962801"
      ]
     },
     "execution_count": 14,
     "metadata": {},
     "output_type": "execute_result"
    }
   ],
   "source": [
    "algorithms = [LGBMRegressor(verbose=-1, random_state=42),\n",
    "             XGBRegressor(random_state=42),\n",
    "             CatBoostRegressor(verbose=0, random_state=42)]\n",
    "score = score_predict(algorithms, X_train, X_test, y_train, y_test, test_df)\n",
    "score"
   ]
  },
  {
   "cell_type": "code",
   "execution_count": 15,
   "id": "96af5462",
   "metadata": {
    "execution": {
     "iopub.execute_input": "2025-02-13T13:22:47.119516Z",
     "iopub.status.busy": "2025-02-13T13:22:47.119061Z",
     "iopub.status.idle": "2025-02-13T13:23:11.679510Z",
     "shell.execute_reply": "2025-02-13T13:23:11.678301Z"
    },
    "papermill": {
     "duration": 24.569738,
     "end_time": "2025-02-13T13:23:11.681694",
     "exception": false,
     "start_time": "2025-02-13T13:22:47.111956",
     "status": "completed"
    },
    "tags": []
   },
   "outputs": [],
   "source": [
    "lgb = make_pipeline(\n",
    "    OrdinalEncoder(),\n",
    "    StandardScaler(),\n",
    "    LGBMRegressor(verbose=-1, random_state=42)\n",
    ")\n",
    "cat = make_pipeline(\n",
    "    OrdinalEncoder(),\n",
    "    StandardScaler(),\n",
    "    CatBoostRegressor(verbose=0, random_state=42)\n",
    ")\n",
    "\n",
    "estimators = [(\"lgb\", lgb), (\"cat\", cat)]\n",
    "vote = VotingRegressor(estimators=estimators, weights=[2, 1])\n",
    "vote.fit(X_train, y_train)\n",
    "y_pred = vote.predict(test_df)\n",
    "pd.DataFrame({\"Price\": y_pred}, index=test_df.index).to_csv(f\"submission.csv\")"
   ]
  },
  {
   "cell_type": "code",
   "execution_count": null,
   "id": "a77b725d",
   "metadata": {
    "papermill": {
     "duration": 0.006218,
     "end_time": "2025-02-13T13:23:11.694164",
     "exception": false,
     "start_time": "2025-02-13T13:23:11.687946",
     "status": "completed"
    },
    "tags": []
   },
   "outputs": [],
   "source": []
  }
 ],
 "metadata": {
  "kaggle": {
   "accelerator": "none",
   "dataSources": [
    {
     "databundleVersionId": 10995111,
     "sourceId": 90274,
     "sourceType": "competition"
    }
   ],
   "dockerImageVersionId": 30839,
   "isGpuEnabled": false,
   "isInternetEnabled": true,
   "language": "python",
   "sourceType": "notebook"
  },
  "kernelspec": {
   "display_name": "Python 3",
   "language": "python",
   "name": "python3"
  },
  "language_info": {
   "codemirror_mode": {
    "name": "ipython",
    "version": 3
   },
   "file_extension": ".py",
   "mimetype": "text/x-python",
   "name": "python",
   "nbconvert_exporter": "python",
   "pygments_lexer": "ipython3",
   "version": "3.10.12"
  },
  "papermill": {
   "default_parameters": {},
   "duration": 68.864041,
   "end_time": "2025-02-13T13:23:12.823691",
   "environment_variables": {},
   "exception": null,
   "input_path": "__notebook__.ipynb",
   "output_path": "__notebook__.ipynb",
   "parameters": {},
   "start_time": "2025-02-13T13:22:03.959650",
   "version": "2.6.0"
  },
  "widgets": {
   "application/vnd.jupyter.widget-state+json": {
    "state": {
     "173b92c0eb3b4c48a582af2b53529ad2": {
      "model_module": "@jupyter-widgets/base",
      "model_module_version": "2.0.0",
      "model_name": "LayoutModel",
      "state": {
       "_model_module": "@jupyter-widgets/base",
       "_model_module_version": "2.0.0",
       "_model_name": "LayoutModel",
       "_view_count": null,
       "_view_module": "@jupyter-widgets/base",
       "_view_module_version": "2.0.0",
       "_view_name": "LayoutView",
       "align_content": null,
       "align_items": null,
       "align_self": null,
       "border_bottom": null,
       "border_left": null,
       "border_right": null,
       "border_top": null,
       "bottom": null,
       "display": null,
       "flex": null,
       "flex_flow": null,
       "grid_area": null,
       "grid_auto_columns": null,
       "grid_auto_flow": null,
       "grid_auto_rows": null,
       "grid_column": null,
       "grid_gap": null,
       "grid_row": null,
       "grid_template_areas": null,
       "grid_template_columns": null,
       "grid_template_rows": null,
       "height": null,
       "justify_content": null,
       "justify_items": null,
       "left": null,
       "margin": null,
       "max_height": null,
       "max_width": null,
       "min_height": null,
       "min_width": null,
       "object_fit": null,
       "object_position": null,
       "order": null,
       "overflow": null,
       "padding": null,
       "right": null,
       "top": null,
       "visibility": null,
       "width": null
      }
     },
     "1f34e12ab47d420a9b1f0f960b04ab81": {
      "model_module": "@jupyter-widgets/controls",
      "model_module_version": "2.0.0",
      "model_name": "HTMLModel",
      "state": {
       "_dom_classes": [],
       "_model_module": "@jupyter-widgets/controls",
       "_model_module_version": "2.0.0",
       "_model_name": "HTMLModel",
       "_view_count": null,
       "_view_module": "@jupyter-widgets/controls",
       "_view_module_version": "2.0.0",
       "_view_name": "HTMLView",
       "description": "",
       "description_allow_html": false,
       "layout": "IPY_MODEL_e1bc61d74d2449c785ab4ef7c2f6d9e8",
       "placeholder": "​",
       "style": "IPY_MODEL_56071d8077244276a5ad64dcba276f5f",
       "tabbable": null,
       "tooltip": null,
       "value": " 3/3 [00:27&lt;00:00, 11.07s/it]"
      }
     },
     "2dde8049a7284dea9fece5d76a2a4bc7": {
      "model_module": "@jupyter-widgets/controls",
      "model_module_version": "2.0.0",
      "model_name": "ProgressStyleModel",
      "state": {
       "_model_module": "@jupyter-widgets/controls",
       "_model_module_version": "2.0.0",
       "_model_name": "ProgressStyleModel",
       "_view_count": null,
       "_view_module": "@jupyter-widgets/base",
       "_view_module_version": "2.0.0",
       "_view_name": "StyleView",
       "bar_color": null,
       "description_width": ""
      }
     },
     "56071d8077244276a5ad64dcba276f5f": {
      "model_module": "@jupyter-widgets/controls",
      "model_module_version": "2.0.0",
      "model_name": "HTMLStyleModel",
      "state": {
       "_model_module": "@jupyter-widgets/controls",
       "_model_module_version": "2.0.0",
       "_model_name": "HTMLStyleModel",
       "_view_count": null,
       "_view_module": "@jupyter-widgets/base",
       "_view_module_version": "2.0.0",
       "_view_name": "StyleView",
       "background": null,
       "description_width": "",
       "font_size": null,
       "text_color": null
      }
     },
     "5945e26956fc46b5972f7bf09c664598": {
      "model_module": "@jupyter-widgets/base",
      "model_module_version": "2.0.0",
      "model_name": "LayoutModel",
      "state": {
       "_model_module": "@jupyter-widgets/base",
       "_model_module_version": "2.0.0",
       "_model_name": "LayoutModel",
       "_view_count": null,
       "_view_module": "@jupyter-widgets/base",
       "_view_module_version": "2.0.0",
       "_view_name": "LayoutView",
       "align_content": null,
       "align_items": null,
       "align_self": null,
       "border_bottom": null,
       "border_left": null,
       "border_right": null,
       "border_top": null,
       "bottom": null,
       "display": null,
       "flex": null,
       "flex_flow": null,
       "grid_area": null,
       "grid_auto_columns": null,
       "grid_auto_flow": null,
       "grid_auto_rows": null,
       "grid_column": null,
       "grid_gap": null,
       "grid_row": null,
       "grid_template_areas": null,
       "grid_template_columns": null,
       "grid_template_rows": null,
       "height": null,
       "justify_content": null,
       "justify_items": null,
       "left": null,
       "margin": null,
       "max_height": null,
       "max_width": null,
       "min_height": null,
       "min_width": null,
       "object_fit": null,
       "object_position": null,
       "order": null,
       "overflow": null,
       "padding": null,
       "right": null,
       "top": null,
       "visibility": null,
       "width": null
      }
     },
     "5c43a293f6a14c758335112ffbe020fb": {
      "model_module": "@jupyter-widgets/controls",
      "model_module_version": "2.0.0",
      "model_name": "HTMLModel",
      "state": {
       "_dom_classes": [],
       "_model_module": "@jupyter-widgets/controls",
       "_model_module_version": "2.0.0",
       "_model_name": "HTMLModel",
       "_view_count": null,
       "_view_module": "@jupyter-widgets/controls",
       "_view_module_version": "2.0.0",
       "_view_name": "HTMLView",
       "description": "",
       "description_allow_html": false,
       "layout": "IPY_MODEL_173b92c0eb3b4c48a582af2b53529ad2",
       "placeholder": "​",
       "style": "IPY_MODEL_cbb9ab138ee64bab8a09c4858733953c",
       "tabbable": null,
       "tooltip": null,
       "value": "Starting: 100%"
      }
     },
     "754e207b217c470c814e0f4d4045a3b9": {
      "model_module": "@jupyter-widgets/base",
      "model_module_version": "2.0.0",
      "model_name": "LayoutModel",
      "state": {
       "_model_module": "@jupyter-widgets/base",
       "_model_module_version": "2.0.0",
       "_model_name": "LayoutModel",
       "_view_count": null,
       "_view_module": "@jupyter-widgets/base",
       "_view_module_version": "2.0.0",
       "_view_name": "LayoutView",
       "align_content": null,
       "align_items": null,
       "align_self": null,
       "border_bottom": null,
       "border_left": null,
       "border_right": null,
       "border_top": null,
       "bottom": null,
       "display": null,
       "flex": null,
       "flex_flow": null,
       "grid_area": null,
       "grid_auto_columns": null,
       "grid_auto_flow": null,
       "grid_auto_rows": null,
       "grid_column": null,
       "grid_gap": null,
       "grid_row": null,
       "grid_template_areas": null,
       "grid_template_columns": null,
       "grid_template_rows": null,
       "height": null,
       "justify_content": null,
       "justify_items": null,
       "left": null,
       "margin": null,
       "max_height": null,
       "max_width": null,
       "min_height": null,
       "min_width": null,
       "object_fit": null,
       "object_position": null,
       "order": null,
       "overflow": null,
       "padding": null,
       "right": null,
       "top": null,
       "visibility": null,
       "width": null
      }
     },
     "b04c9dcdd6d84af189c54a89049a12ad": {
      "model_module": "@jupyter-widgets/controls",
      "model_module_version": "2.0.0",
      "model_name": "FloatProgressModel",
      "state": {
       "_dom_classes": [],
       "_model_module": "@jupyter-widgets/controls",
       "_model_module_version": "2.0.0",
       "_model_name": "FloatProgressModel",
       "_view_count": null,
       "_view_module": "@jupyter-widgets/controls",
       "_view_module_version": "2.0.0",
       "_view_name": "ProgressView",
       "bar_style": "success",
       "description": "",
       "description_allow_html": false,
       "layout": "IPY_MODEL_5945e26956fc46b5972f7bf09c664598",
       "max": 3.0,
       "min": 0.0,
       "orientation": "horizontal",
       "style": "IPY_MODEL_2dde8049a7284dea9fece5d76a2a4bc7",
       "tabbable": null,
       "tooltip": null,
       "value": 3.0
      }
     },
     "c308d1058c4949de93d2e1c20028c869": {
      "model_module": "@jupyter-widgets/controls",
      "model_module_version": "2.0.0",
      "model_name": "HBoxModel",
      "state": {
       "_dom_classes": [],
       "_model_module": "@jupyter-widgets/controls",
       "_model_module_version": "2.0.0",
       "_model_name": "HBoxModel",
       "_view_count": null,
       "_view_module": "@jupyter-widgets/controls",
       "_view_module_version": "2.0.0",
       "_view_name": "HBoxView",
       "box_style": "",
       "children": [
        "IPY_MODEL_5c43a293f6a14c758335112ffbe020fb",
        "IPY_MODEL_b04c9dcdd6d84af189c54a89049a12ad",
        "IPY_MODEL_1f34e12ab47d420a9b1f0f960b04ab81"
       ],
       "layout": "IPY_MODEL_754e207b217c470c814e0f4d4045a3b9",
       "tabbable": null,
       "tooltip": null
      }
     },
     "cbb9ab138ee64bab8a09c4858733953c": {
      "model_module": "@jupyter-widgets/controls",
      "model_module_version": "2.0.0",
      "model_name": "HTMLStyleModel",
      "state": {
       "_model_module": "@jupyter-widgets/controls",
       "_model_module_version": "2.0.0",
       "_model_name": "HTMLStyleModel",
       "_view_count": null,
       "_view_module": "@jupyter-widgets/base",
       "_view_module_version": "2.0.0",
       "_view_name": "StyleView",
       "background": null,
       "description_width": "",
       "font_size": null,
       "text_color": null
      }
     },
     "e1bc61d74d2449c785ab4ef7c2f6d9e8": {
      "model_module": "@jupyter-widgets/base",
      "model_module_version": "2.0.0",
      "model_name": "LayoutModel",
      "state": {
       "_model_module": "@jupyter-widgets/base",
       "_model_module_version": "2.0.0",
       "_model_name": "LayoutModel",
       "_view_count": null,
       "_view_module": "@jupyter-widgets/base",
       "_view_module_version": "2.0.0",
       "_view_name": "LayoutView",
       "align_content": null,
       "align_items": null,
       "align_self": null,
       "border_bottom": null,
       "border_left": null,
       "border_right": null,
       "border_top": null,
       "bottom": null,
       "display": null,
       "flex": null,
       "flex_flow": null,
       "grid_area": null,
       "grid_auto_columns": null,
       "grid_auto_flow": null,
       "grid_auto_rows": null,
       "grid_column": null,
       "grid_gap": null,
       "grid_row": null,
       "grid_template_areas": null,
       "grid_template_columns": null,
       "grid_template_rows": null,
       "height": null,
       "justify_content": null,
       "justify_items": null,
       "left": null,
       "margin": null,
       "max_height": null,
       "max_width": null,
       "min_height": null,
       "min_width": null,
       "object_fit": null,
       "object_position": null,
       "order": null,
       "overflow": null,
       "padding": null,
       "right": null,
       "top": null,
       "visibility": null,
       "width": null
      }
     }
    },
    "version_major": 2,
    "version_minor": 0
   }
  }
 },
 "nbformat": 4,
 "nbformat_minor": 5
}
