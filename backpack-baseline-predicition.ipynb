{
 "cells": [
  {
   "cell_type": "markdown",
   "id": "d0f0ade2",
   "metadata": {
    "papermill": {
     "duration": 0.004551,
     "end_time": "2025-02-12T12:52:18.059580",
     "exception": false,
     "start_time": "2025-02-12T12:52:18.055029",
     "status": "completed"
    },
    "tags": []
   },
   "source": [
    "# Backpack Predition"
   ]
  },
  {
   "cell_type": "code",
   "execution_count": 1,
   "id": "2eca839b",
   "metadata": {
    "execution": {
     "iopub.execute_input": "2025-02-12T12:52:18.068831Z",
     "iopub.status.busy": "2025-02-12T12:52:18.068413Z",
     "iopub.status.idle": "2025-02-12T12:52:26.399158Z",
     "shell.execute_reply": "2025-02-12T12:52:26.398206Z"
    },
    "papermill": {
     "duration": 8.337306,
     "end_time": "2025-02-12T12:52:26.401072",
     "exception": false,
     "start_time": "2025-02-12T12:52:18.063766",
     "status": "completed"
    },
    "tags": []
   },
   "outputs": [],
   "source": [
    "# import all necessary libraries.\n",
    "import pandas as pd\n",
    "import numpy as np\n",
    "\n",
    "import matplotlib.pyplot as plt\n",
    "import seaborn as sns\n",
    "import plotly_express as px\n",
    "\n",
    "import sklearn\n",
    "from sklearn.metrics import mean_squared_error\n",
    "from category_encoders import OneHotEncoder, OrdinalEncoder\n",
    "from sklearn.model_selection import train_test_split\n",
    "from sklearn.preprocessing import StandardScaler\n",
    "from sklearn.pipeline import make_pipeline\n",
    "from catboost import CatBoostRegressor\n",
    "from lightgbm import LGBMRegressor\n",
    "from xgboost import XGBRegressor\n",
    "from tqdm.notebook import tqdm\n",
    "import optuna\n",
    "import warnings\n",
    "warnings.simplefilter(\"ignore\")"
   ]
  },
  {
   "cell_type": "code",
   "execution_count": 2,
   "id": "2b1db485",
   "metadata": {
    "execution": {
     "iopub.execute_input": "2025-02-12T12:52:26.410828Z",
     "iopub.status.busy": "2025-02-12T12:52:26.410012Z",
     "iopub.status.idle": "2025-02-12T12:52:27.595979Z",
     "shell.execute_reply": "2025-02-12T12:52:27.594842Z"
    },
    "papermill": {
     "duration": 1.192695,
     "end_time": "2025-02-12T12:52:27.598040",
     "exception": false,
     "start_time": "2025-02-12T12:52:26.405345",
     "status": "completed"
    },
    "tags": []
   },
   "outputs": [],
   "source": [
    "# Reading the files\n",
    "test_filepath = \"/kaggle/input/playground-series-s5e2/test.csv\"\n",
    "train_filepath = \"/kaggle/input/playground-series-s5e2/train.csv\"\n",
    "df = pd.read_csv(train_filepath, index_col=\"id\")\n",
    "df_test = pd.read_csv(test_filepath, index_col=\"id\")"
   ]
  },
  {
   "cell_type": "markdown",
   "id": "b25c3bb8",
   "metadata": {
    "papermill": {
     "duration": 0.003843,
     "end_time": "2025-02-12T12:52:27.606185",
     "exception": false,
     "start_time": "2025-02-12T12:52:27.602342",
     "status": "completed"
    },
    "tags": []
   },
   "source": [
    "## Explore"
   ]
  },
  {
   "cell_type": "code",
   "execution_count": 3,
   "id": "c80e7df0",
   "metadata": {
    "execution": {
     "iopub.execute_input": "2025-02-12T12:52:27.615780Z",
     "iopub.status.busy": "2025-02-12T12:52:27.615420Z",
     "iopub.status.idle": "2025-02-12T12:52:27.636915Z",
     "shell.execute_reply": "2025-02-12T12:52:27.635835Z"
    },
    "papermill": {
     "duration": 0.028104,
     "end_time": "2025-02-12T12:52:27.638492",
     "exception": false,
     "start_time": "2025-02-12T12:52:27.610388",
     "status": "completed"
    },
    "tags": []
   },
   "outputs": [
    {
     "name": "stdout",
     "output_type": "stream",
     "text": [
      "(300000, 10)\n"
     ]
    },
    {
     "data": {
      "text/html": [
       "<div>\n",
       "<style scoped>\n",
       "    .dataframe tbody tr th:only-of-type {\n",
       "        vertical-align: middle;\n",
       "    }\n",
       "\n",
       "    .dataframe tbody tr th {\n",
       "        vertical-align: top;\n",
       "    }\n",
       "\n",
       "    .dataframe thead th {\n",
       "        text-align: right;\n",
       "    }\n",
       "</style>\n",
       "<table border=\"1\" class=\"dataframe\">\n",
       "  <thead>\n",
       "    <tr style=\"text-align: right;\">\n",
       "      <th></th>\n",
       "      <th>Brand</th>\n",
       "      <th>Material</th>\n",
       "      <th>Size</th>\n",
       "      <th>Compartments</th>\n",
       "      <th>Laptop Compartment</th>\n",
       "      <th>Waterproof</th>\n",
       "      <th>Style</th>\n",
       "      <th>Color</th>\n",
       "      <th>Weight Capacity (kg)</th>\n",
       "      <th>Price</th>\n",
       "    </tr>\n",
       "    <tr>\n",
       "      <th>id</th>\n",
       "      <th></th>\n",
       "      <th></th>\n",
       "      <th></th>\n",
       "      <th></th>\n",
       "      <th></th>\n",
       "      <th></th>\n",
       "      <th></th>\n",
       "      <th></th>\n",
       "      <th></th>\n",
       "      <th></th>\n",
       "    </tr>\n",
       "  </thead>\n",
       "  <tbody>\n",
       "    <tr>\n",
       "      <th>0</th>\n",
       "      <td>Jansport</td>\n",
       "      <td>Leather</td>\n",
       "      <td>Medium</td>\n",
       "      <td>7.0</td>\n",
       "      <td>Yes</td>\n",
       "      <td>No</td>\n",
       "      <td>Tote</td>\n",
       "      <td>Black</td>\n",
       "      <td>11.611723</td>\n",
       "      <td>112.15875</td>\n",
       "    </tr>\n",
       "    <tr>\n",
       "      <th>1</th>\n",
       "      <td>Jansport</td>\n",
       "      <td>Canvas</td>\n",
       "      <td>Small</td>\n",
       "      <td>10.0</td>\n",
       "      <td>Yes</td>\n",
       "      <td>Yes</td>\n",
       "      <td>Messenger</td>\n",
       "      <td>Green</td>\n",
       "      <td>27.078537</td>\n",
       "      <td>68.88056</td>\n",
       "    </tr>\n",
       "    <tr>\n",
       "      <th>2</th>\n",
       "      <td>Under Armour</td>\n",
       "      <td>Leather</td>\n",
       "      <td>Small</td>\n",
       "      <td>2.0</td>\n",
       "      <td>Yes</td>\n",
       "      <td>No</td>\n",
       "      <td>Messenger</td>\n",
       "      <td>Red</td>\n",
       "      <td>16.643760</td>\n",
       "      <td>39.17320</td>\n",
       "    </tr>\n",
       "    <tr>\n",
       "      <th>3</th>\n",
       "      <td>Nike</td>\n",
       "      <td>Nylon</td>\n",
       "      <td>Small</td>\n",
       "      <td>8.0</td>\n",
       "      <td>Yes</td>\n",
       "      <td>No</td>\n",
       "      <td>Messenger</td>\n",
       "      <td>Green</td>\n",
       "      <td>12.937220</td>\n",
       "      <td>80.60793</td>\n",
       "    </tr>\n",
       "    <tr>\n",
       "      <th>4</th>\n",
       "      <td>Adidas</td>\n",
       "      <td>Canvas</td>\n",
       "      <td>Medium</td>\n",
       "      <td>1.0</td>\n",
       "      <td>Yes</td>\n",
       "      <td>Yes</td>\n",
       "      <td>Messenger</td>\n",
       "      <td>Green</td>\n",
       "      <td>17.749338</td>\n",
       "      <td>86.02312</td>\n",
       "    </tr>\n",
       "  </tbody>\n",
       "</table>\n",
       "</div>"
      ],
      "text/plain": [
       "           Brand Material    Size  Compartments Laptop Compartment Waterproof  \\\n",
       "id                                                                              \n",
       "0       Jansport  Leather  Medium           7.0                Yes         No   \n",
       "1       Jansport   Canvas   Small          10.0                Yes        Yes   \n",
       "2   Under Armour  Leather   Small           2.0                Yes         No   \n",
       "3           Nike    Nylon   Small           8.0                Yes         No   \n",
       "4         Adidas   Canvas  Medium           1.0                Yes        Yes   \n",
       "\n",
       "        Style  Color  Weight Capacity (kg)      Price  \n",
       "id                                                     \n",
       "0        Tote  Black             11.611723  112.15875  \n",
       "1   Messenger  Green             27.078537   68.88056  \n",
       "2   Messenger    Red             16.643760   39.17320  \n",
       "3   Messenger  Green             12.937220   80.60793  \n",
       "4   Messenger  Green             17.749338   86.02312  "
      ]
     },
     "execution_count": 3,
     "metadata": {},
     "output_type": "execute_result"
    }
   ],
   "source": [
    "print(df.shape)\n",
    "df.head()"
   ]
  },
  {
   "cell_type": "code",
   "execution_count": 4,
   "id": "56bf387f",
   "metadata": {
    "execution": {
     "iopub.execute_input": "2025-02-12T12:52:27.648813Z",
     "iopub.status.busy": "2025-02-12T12:52:27.648420Z",
     "iopub.status.idle": "2025-02-12T12:52:27.767777Z",
     "shell.execute_reply": "2025-02-12T12:52:27.766389Z"
    },
    "papermill": {
     "duration": 0.126429,
     "end_time": "2025-02-12T12:52:27.769508",
     "exception": false,
     "start_time": "2025-02-12T12:52:27.643079",
     "status": "completed"
    },
    "tags": []
   },
   "outputs": [
    {
     "name": "stdout",
     "output_type": "stream",
     "text": [
      "<class 'pandas.core.frame.DataFrame'>\n",
      "Index: 300000 entries, 0 to 299999\n",
      "Data columns (total 10 columns):\n",
      " #   Column                Non-Null Count   Dtype  \n",
      "---  ------                --------------   -----  \n",
      " 0   Brand                 290295 non-null  object \n",
      " 1   Material              291653 non-null  object \n",
      " 2   Size                  293405 non-null  object \n",
      " 3   Compartments          300000 non-null  float64\n",
      " 4   Laptop Compartment    292556 non-null  object \n",
      " 5   Waterproof            292950 non-null  object \n",
      " 6   Style                 292030 non-null  object \n",
      " 7   Color                 290050 non-null  object \n",
      " 8   Weight Capacity (kg)  299862 non-null  float64\n",
      " 9   Price                 300000 non-null  float64\n",
      "dtypes: float64(3), object(7)\n",
      "memory usage: 25.2+ MB\n"
     ]
    }
   ],
   "source": [
    "df.info()"
   ]
  },
  {
   "cell_type": "code",
   "execution_count": 5,
   "id": "2e62a8cf",
   "metadata": {
    "execution": {
     "iopub.execute_input": "2025-02-12T12:52:27.780185Z",
     "iopub.status.busy": "2025-02-12T12:52:27.779782Z",
     "iopub.status.idle": "2025-02-12T12:52:27.892094Z",
     "shell.execute_reply": "2025-02-12T12:52:27.891074Z"
    },
    "papermill": {
     "duration": 0.11943,
     "end_time": "2025-02-12T12:52:27.893833",
     "exception": false,
     "start_time": "2025-02-12T12:52:27.774403",
     "status": "completed"
    },
    "tags": []
   },
   "outputs": [
    {
     "data": {
      "text/plain": [
       "Compartments               0\n",
       "Price                      0\n",
       "Weight Capacity (kg)     138\n",
       "Size                    6595\n",
       "Waterproof              7050\n",
       "Laptop Compartment      7444\n",
       "Style                   7970\n",
       "Material                8347\n",
       "Brand                   9705\n",
       "Color                   9950\n",
       "dtype: int64"
      ]
     },
     "execution_count": 5,
     "metadata": {},
     "output_type": "execute_result"
    }
   ],
   "source": [
    "df.isnull().sum().sort_values()"
   ]
  },
  {
   "cell_type": "code",
   "execution_count": 6,
   "id": "4161f894",
   "metadata": {
    "execution": {
     "iopub.execute_input": "2025-02-12T12:52:27.904454Z",
     "iopub.status.busy": "2025-02-12T12:52:27.904114Z",
     "iopub.status.idle": "2025-02-12T12:52:28.016082Z",
     "shell.execute_reply": "2025-02-12T12:52:28.015057Z"
    },
    "papermill": {
     "duration": 0.119022,
     "end_time": "2025-02-12T12:52:28.017599",
     "exception": false,
     "start_time": "2025-02-12T12:52:27.898577",
     "status": "completed"
    },
    "tags": []
   },
   "outputs": [
    {
     "data": {
      "text/plain": [
       "Laptop Compartment           2\n",
       "Waterproof                   2\n",
       "Size                         3\n",
       "Style                        3\n",
       "Material                     4\n",
       "Brand                        5\n",
       "Color                        6\n",
       "Compartments                10\n",
       "Price                    48212\n",
       "Weight Capacity (kg)    181596\n",
       "dtype: int64"
      ]
     },
     "execution_count": 6,
     "metadata": {},
     "output_type": "execute_result"
    }
   ],
   "source": [
    "df.nunique().sort_values()"
   ]
  },
  {
   "cell_type": "code",
   "execution_count": 7,
   "id": "bb9ce3f2",
   "metadata": {
    "execution": {
     "iopub.execute_input": "2025-02-12T12:52:28.028101Z",
     "iopub.status.busy": "2025-02-12T12:52:28.027699Z",
     "iopub.status.idle": "2025-02-12T12:52:28.087762Z",
     "shell.execute_reply": "2025-02-12T12:52:28.086667Z"
    },
    "papermill": {
     "duration": 0.067078,
     "end_time": "2025-02-12T12:52:28.089382",
     "exception": false,
     "start_time": "2025-02-12T12:52:28.022304",
     "status": "completed"
    },
    "tags": []
   },
   "outputs": [
    {
     "data": {
      "text/html": [
       "<div>\n",
       "<style scoped>\n",
       "    .dataframe tbody tr th:only-of-type {\n",
       "        vertical-align: middle;\n",
       "    }\n",
       "\n",
       "    .dataframe tbody tr th {\n",
       "        vertical-align: top;\n",
       "    }\n",
       "\n",
       "    .dataframe thead th {\n",
       "        text-align: right;\n",
       "    }\n",
       "</style>\n",
       "<table border=\"1\" class=\"dataframe\">\n",
       "  <thead>\n",
       "    <tr style=\"text-align: right;\">\n",
       "      <th></th>\n",
       "      <th>Compartments</th>\n",
       "      <th>Weight Capacity (kg)</th>\n",
       "      <th>Price</th>\n",
       "    </tr>\n",
       "  </thead>\n",
       "  <tbody>\n",
       "    <tr>\n",
       "      <th>count</th>\n",
       "      <td>300000.000000</td>\n",
       "      <td>299862.000000</td>\n",
       "      <td>300000.000000</td>\n",
       "    </tr>\n",
       "    <tr>\n",
       "      <th>mean</th>\n",
       "      <td>5.443590</td>\n",
       "      <td>18.029994</td>\n",
       "      <td>81.411107</td>\n",
       "    </tr>\n",
       "    <tr>\n",
       "      <th>std</th>\n",
       "      <td>2.890766</td>\n",
       "      <td>6.966914</td>\n",
       "      <td>39.039340</td>\n",
       "    </tr>\n",
       "    <tr>\n",
       "      <th>min</th>\n",
       "      <td>1.000000</td>\n",
       "      <td>5.000000</td>\n",
       "      <td>15.000000</td>\n",
       "    </tr>\n",
       "    <tr>\n",
       "      <th>25%</th>\n",
       "      <td>3.000000</td>\n",
       "      <td>12.097867</td>\n",
       "      <td>47.384620</td>\n",
       "    </tr>\n",
       "    <tr>\n",
       "      <th>50%</th>\n",
       "      <td>5.000000</td>\n",
       "      <td>18.068614</td>\n",
       "      <td>80.956120</td>\n",
       "    </tr>\n",
       "    <tr>\n",
       "      <th>75%</th>\n",
       "      <td>8.000000</td>\n",
       "      <td>24.002375</td>\n",
       "      <td>115.018160</td>\n",
       "    </tr>\n",
       "    <tr>\n",
       "      <th>max</th>\n",
       "      <td>10.000000</td>\n",
       "      <td>30.000000</td>\n",
       "      <td>150.000000</td>\n",
       "    </tr>\n",
       "  </tbody>\n",
       "</table>\n",
       "</div>"
      ],
      "text/plain": [
       "        Compartments  Weight Capacity (kg)          Price\n",
       "count  300000.000000         299862.000000  300000.000000\n",
       "mean        5.443590             18.029994      81.411107\n",
       "std         2.890766              6.966914      39.039340\n",
       "min         1.000000              5.000000      15.000000\n",
       "25%         3.000000             12.097867      47.384620\n",
       "50%         5.000000             18.068614      80.956120\n",
       "75%         8.000000             24.002375     115.018160\n",
       "max        10.000000             30.000000     150.000000"
      ]
     },
     "execution_count": 7,
     "metadata": {},
     "output_type": "execute_result"
    }
   ],
   "source": [
    "df.describe()"
   ]
  },
  {
   "cell_type": "code",
   "execution_count": 8,
   "id": "1019016c",
   "metadata": {
    "execution": {
     "iopub.execute_input": "2025-02-12T12:52:28.100474Z",
     "iopub.status.busy": "2025-02-12T12:52:28.100063Z",
     "iopub.status.idle": "2025-02-12T12:52:28.105972Z",
     "shell.execute_reply": "2025-02-12T12:52:28.105034Z"
    },
    "papermill": {
     "duration": 0.013258,
     "end_time": "2025-02-12T12:52:28.107662",
     "exception": false,
     "start_time": "2025-02-12T12:52:28.094404",
     "status": "completed"
    },
    "tags": []
   },
   "outputs": [],
   "source": [
    "def wrangle(filepath):\n",
    "    df = pd.read_csv(filepath, index_col= \"id\")\n",
    "    # Fill the weight with mean.\n",
    "    df[\"Weight Capacity (kg)\"] = df[\"Weight Capacity (kg)\"].fillna(df[\"Weight Capacity (kg)\"].mean)\n",
    "    # fill the color.\n",
    "    df[\"Color\"] = df[\"Color\"].fillna(\"Multi-color\")\n",
    "    # fill the Brand with unknown brand.\n",
    "    df[\"Brand\"] = df[\"Brand\"].fillna(\"Unknown\")\n",
    "    # fill the size.\n",
    "    df[\"Size\"] = df[\"Size\"].fillna(\"Others\")\n",
    "    # fill the waterproof.\n",
    "    df[\"Waterproof\"] = df[\"Waterproof\"].fillna(\"Undetermined\")\n",
    "    # fill the Laptop compartment.\n",
    "    df[\"Laptop Compartment\"] = df[\"Laptop Compartment\"].fillna(\"Unknown\")\n",
    "    # Fill the material ans style.\n",
    "    df[\"Material\"] = df[\"Material\"].fillna(\"Unknown\")\n",
    "    df[\"Style\"] = df[\"Style\"].fillna(\"Unknown\")\n",
    "\n",
    "    return df"
   ]
  },
  {
   "cell_type": "code",
   "execution_count": 9,
   "id": "a5d69ec5",
   "metadata": {
    "execution": {
     "iopub.execute_input": "2025-02-12T12:52:28.118273Z",
     "iopub.status.busy": "2025-02-12T12:52:28.117937Z",
     "iopub.status.idle": "2025-02-12T12:52:28.843529Z",
     "shell.execute_reply": "2025-02-12T12:52:28.842370Z"
    },
    "papermill": {
     "duration": 0.732827,
     "end_time": "2025-02-12T12:52:28.845309",
     "exception": false,
     "start_time": "2025-02-12T12:52:28.112482",
     "status": "completed"
    },
    "tags": []
   },
   "outputs": [
    {
     "data": {
      "text/plain": [
       "Brand                   0\n",
       "Material                0\n",
       "Size                    0\n",
       "Compartments            0\n",
       "Laptop Compartment      0\n",
       "Waterproof              0\n",
       "Style                   0\n",
       "Color                   0\n",
       "Weight Capacity (kg)    0\n",
       "Price                   0\n",
       "dtype: int64"
      ]
     },
     "execution_count": 9,
     "metadata": {},
     "output_type": "execute_result"
    }
   ],
   "source": [
    "df = wrangle(train_filepath)\n",
    "df.isnull().sum()"
   ]
  },
  {
   "cell_type": "markdown",
   "id": "d670a0ab",
   "metadata": {
    "execution": {
     "iopub.execute_input": "2025-02-12T11:21:24.727092Z",
     "iopub.status.busy": "2025-02-12T11:21:24.726182Z",
     "iopub.status.idle": "2025-02-12T11:21:24.731927Z",
     "shell.execute_reply": "2025-02-12T11:21:24.730394Z",
     "shell.execute_reply.started": "2025-02-12T11:21:24.727055Z"
    },
    "papermill": {
     "duration": 0.00438,
     "end_time": "2025-02-12T12:52:28.854618",
     "exception": false,
     "start_time": "2025-02-12T12:52:28.850238",
     "status": "completed"
    },
    "tags": []
   },
   "source": [
    "## Split Dataset."
   ]
  },
  {
   "cell_type": "code",
   "execution_count": 10,
   "id": "cc3fcbd4",
   "metadata": {
    "execution": {
     "iopub.execute_input": "2025-02-12T12:52:28.865209Z",
     "iopub.status.busy": "2025-02-12T12:52:28.864861Z",
     "iopub.status.idle": "2025-02-12T12:52:28.988264Z",
     "shell.execute_reply": "2025-02-12T12:52:28.987291Z"
    },
    "papermill": {
     "duration": 0.13117,
     "end_time": "2025-02-12T12:52:28.990376",
     "exception": false,
     "start_time": "2025-02-12T12:52:28.859206",
     "status": "completed"
    },
    "tags": []
   },
   "outputs": [],
   "source": [
    "target = \"Price\"\n",
    "X = df.drop(columns= target)\n",
    "y = df[target]\n",
    "\n",
    "X_train, X_test, y_train, y_test = train_test_split(X, y, test_size=0.2, random_state=42)"
   ]
  },
  {
   "cell_type": "markdown",
   "id": "764139ad",
   "metadata": {
    "papermill": {
     "duration": 0.004932,
     "end_time": "2025-02-12T12:52:29.000273",
     "exception": false,
     "start_time": "2025-02-12T12:52:28.995341",
     "status": "completed"
    },
    "tags": []
   },
   "source": [
    "## Model."
   ]
  },
  {
   "cell_type": "code",
   "execution_count": 11,
   "id": "3fd3d9df",
   "metadata": {
    "execution": {
     "iopub.execute_input": "2025-02-12T12:52:29.011100Z",
     "iopub.status.busy": "2025-02-12T12:52:29.010667Z",
     "iopub.status.idle": "2025-02-12T12:52:29.016948Z",
     "shell.execute_reply": "2025-02-12T12:52:29.016066Z"
    },
    "papermill": {
     "duration": 0.013413,
     "end_time": "2025-02-12T12:52:29.018439",
     "exception": false,
     "start_time": "2025-02-12T12:52:29.005026",
     "status": "completed"
    },
    "tags": []
   },
   "outputs": [],
   "source": [
    "# Create a function that takes in a list of algortithm and then make the prediction then save the prediction.\n",
    "def score_predict(algorithms, X_train, X_test, y_train, y_test, test_df=None, save=True): \n",
    "\n",
    "    data_dict = {}\n",
    "    # loop throught the algorithms.\n",
    "    for algorithm in tqdm(algorithms, desc=\"Starting\"):\n",
    "        # make the pipeline\n",
    "        model = make_pipeline(\n",
    "            OrdinalEncoder(),\n",
    "            StandardScaler(),\n",
    "            algorithm\n",
    "        )\n",
    "        # Fitting the model.\n",
    "        alg_name = list(model.named_steps.keys())[-1]\n",
    "        print(f\"Fitting the {alg_name}\")\n",
    "        model.fit(X_train, y_train)\n",
    "        # Get the score.\n",
    "        print(\"Making Prediction\")\n",
    "        y_test_pred = model.predict(X_test)\n",
    "        score = np.sqrt(mean_squared_error(y_test, y_test_pred))\n",
    "        data_dict[alg_name] = score\n",
    "\n",
    "        if save == True:\n",
    "            y_pred = model.predict(test_df)\n",
    "            pd.DataFrame({\"Price\": y_pred}, index=test_df.index).to_csv(f\"{alg_name}.csv\")\n",
    "\n",
    "    score_df = pd.DataFrame(data_dict, index=[\"Accuracy\"]).T\n",
    "    return score_df"
   ]
  },
  {
   "cell_type": "code",
   "execution_count": 12,
   "id": "e579ff95",
   "metadata": {
    "execution": {
     "iopub.execute_input": "2025-02-12T12:52:29.029263Z",
     "iopub.status.busy": "2025-02-12T12:52:29.028924Z",
     "iopub.status.idle": "2025-02-12T12:52:29.435862Z",
     "shell.execute_reply": "2025-02-12T12:52:29.434870Z"
    },
    "papermill": {
     "duration": 0.414372,
     "end_time": "2025-02-12T12:52:29.437831",
     "exception": false,
     "start_time": "2025-02-12T12:52:29.023459",
     "status": "completed"
    },
    "tags": []
   },
   "outputs": [],
   "source": [
    "test_df = wrangle(test_filepath)"
   ]
  },
  {
   "cell_type": "code",
   "execution_count": 13,
   "id": "70a62646",
   "metadata": {
    "execution": {
     "iopub.execute_input": "2025-02-12T12:52:29.449441Z",
     "iopub.status.busy": "2025-02-12T12:52:29.449125Z",
     "iopub.status.idle": "2025-02-12T12:52:57.016047Z",
     "shell.execute_reply": "2025-02-12T12:52:57.014989Z"
    },
    "papermill": {
     "duration": 27.574667,
     "end_time": "2025-02-12T12:52:57.017832",
     "exception": false,
     "start_time": "2025-02-12T12:52:29.443165",
     "status": "completed"
    },
    "tags": []
   },
   "outputs": [
    {
     "data": {
      "application/vnd.jupyter.widget-view+json": {
       "model_id": "367ca8e108534549afc2a57e14f01b4e",
       "version_major": 2,
       "version_minor": 0
      },
      "text/plain": [
       "Starting:   0%|          | 0/3 [00:00<?, ?it/s]"
      ]
     },
     "metadata": {},
     "output_type": "display_data"
    },
    {
     "name": "stdout",
     "output_type": "stream",
     "text": [
      "Fitting the lgbmregressor\n",
      "Making Prediction\n",
      "Fitting the xgbregressor\n",
      "Making Prediction\n",
      "Fitting the catboostregressor\n",
      "Making Prediction\n"
     ]
    },
    {
     "data": {
      "text/html": [
       "<div>\n",
       "<style scoped>\n",
       "    .dataframe tbody tr th:only-of-type {\n",
       "        vertical-align: middle;\n",
       "    }\n",
       "\n",
       "    .dataframe tbody tr th {\n",
       "        vertical-align: top;\n",
       "    }\n",
       "\n",
       "    .dataframe thead th {\n",
       "        text-align: right;\n",
       "    }\n",
       "</style>\n",
       "<table border=\"1\" class=\"dataframe\">\n",
       "  <thead>\n",
       "    <tr style=\"text-align: right;\">\n",
       "      <th></th>\n",
       "      <th>Accuracy</th>\n",
       "    </tr>\n",
       "  </thead>\n",
       "  <tbody>\n",
       "    <tr>\n",
       "      <th>lgbmregressor</th>\n",
       "      <td>39.058841</td>\n",
       "    </tr>\n",
       "    <tr>\n",
       "      <th>xgbregressor</th>\n",
       "      <td>39.603282</td>\n",
       "    </tr>\n",
       "    <tr>\n",
       "      <th>catboostregressor</th>\n",
       "      <td>39.566063</td>\n",
       "    </tr>\n",
       "  </tbody>\n",
       "</table>\n",
       "</div>"
      ],
      "text/plain": [
       "                    Accuracy\n",
       "lgbmregressor      39.058841\n",
       "xgbregressor       39.603282\n",
       "catboostregressor  39.566063"
      ]
     },
     "execution_count": 13,
     "metadata": {},
     "output_type": "execute_result"
    }
   ],
   "source": [
    "algorithms = [LGBMRegressor(verbose=-1, random_state=42),\n",
    "             XGBRegressor(random_state=42),\n",
    "             CatBoostRegressor(verbose=0, random_state=42)]\n",
    "score = score_predict(algorithms, X_train, X_test, y_train, y_test, test_df)\n",
    "score"
   ]
  },
  {
   "cell_type": "code",
   "execution_count": null,
   "id": "6618ac79",
   "metadata": {
    "papermill": {
     "duration": 0.005618,
     "end_time": "2025-02-12T12:52:57.029485",
     "exception": false,
     "start_time": "2025-02-12T12:52:57.023867",
     "status": "completed"
    },
    "tags": []
   },
   "outputs": [],
   "source": []
  }
 ],
 "metadata": {
  "kaggle": {
   "accelerator": "none",
   "dataSources": [
    {
     "databundleVersionId": 10995111,
     "sourceId": 90274,
     "sourceType": "competition"
    }
   ],
   "dockerImageVersionId": 30839,
   "isGpuEnabled": false,
   "isInternetEnabled": true,
   "language": "python",
   "sourceType": "notebook"
  },
  "kernelspec": {
   "display_name": "Python 3",
   "language": "python",
   "name": "python3"
  },
  "language_info": {
   "codemirror_mode": {
    "name": "ipython",
    "version": 3
   },
   "file_extension": ".py",
   "mimetype": "text/x-python",
   "name": "python",
   "nbconvert_exporter": "python",
   "pygments_lexer": "ipython3",
   "version": "3.10.12"
  },
  "papermill": {
   "default_parameters": {},
   "duration": 43.045496,
   "end_time": "2025-02-12T12:52:58.159051",
   "environment_variables": {},
   "exception": null,
   "input_path": "__notebook__.ipynb",
   "output_path": "__notebook__.ipynb",
   "parameters": {},
   "start_time": "2025-02-12T12:52:15.113555",
   "version": "2.6.0"
  },
  "widgets": {
   "application/vnd.jupyter.widget-state+json": {
    "state": {
     "1fe4f063ba7548fa9fc7f230eadcf25c": {
      "model_module": "@jupyter-widgets/base",
      "model_module_version": "2.0.0",
      "model_name": "LayoutModel",
      "state": {
       "_model_module": "@jupyter-widgets/base",
       "_model_module_version": "2.0.0",
       "_model_name": "LayoutModel",
       "_view_count": null,
       "_view_module": "@jupyter-widgets/base",
       "_view_module_version": "2.0.0",
       "_view_name": "LayoutView",
       "align_content": null,
       "align_items": null,
       "align_self": null,
       "border_bottom": null,
       "border_left": null,
       "border_right": null,
       "border_top": null,
       "bottom": null,
       "display": null,
       "flex": null,
       "flex_flow": null,
       "grid_area": null,
       "grid_auto_columns": null,
       "grid_auto_flow": null,
       "grid_auto_rows": null,
       "grid_column": null,
       "grid_gap": null,
       "grid_row": null,
       "grid_template_areas": null,
       "grid_template_columns": null,
       "grid_template_rows": null,
       "height": null,
       "justify_content": null,
       "justify_items": null,
       "left": null,
       "margin": null,
       "max_height": null,
       "max_width": null,
       "min_height": null,
       "min_width": null,
       "object_fit": null,
       "object_position": null,
       "order": null,
       "overflow": null,
       "padding": null,
       "right": null,
       "top": null,
       "visibility": null,
       "width": null
      }
     },
     "367ca8e108534549afc2a57e14f01b4e": {
      "model_module": "@jupyter-widgets/controls",
      "model_module_version": "2.0.0",
      "model_name": "HBoxModel",
      "state": {
       "_dom_classes": [],
       "_model_module": "@jupyter-widgets/controls",
       "_model_module_version": "2.0.0",
       "_model_name": "HBoxModel",
       "_view_count": null,
       "_view_module": "@jupyter-widgets/controls",
       "_view_module_version": "2.0.0",
       "_view_name": "HBoxView",
       "box_style": "",
       "children": [
        "IPY_MODEL_87839a962a284cf1ba45cb94c030af2c",
        "IPY_MODEL_42d14b8c1c244d538ae11eea4a4ac6ec",
        "IPY_MODEL_39b4d837936648e7bac9caf8461d646b"
       ],
       "layout": "IPY_MODEL_7de78c9e1a3747fb8d076bac97afac83",
       "tabbable": null,
       "tooltip": null
      }
     },
     "39b4d837936648e7bac9caf8461d646b": {
      "model_module": "@jupyter-widgets/controls",
      "model_module_version": "2.0.0",
      "model_name": "HTMLModel",
      "state": {
       "_dom_classes": [],
       "_model_module": "@jupyter-widgets/controls",
       "_model_module_version": "2.0.0",
       "_model_name": "HTMLModel",
       "_view_count": null,
       "_view_module": "@jupyter-widgets/controls",
       "_view_module_version": "2.0.0",
       "_view_name": "HTMLView",
       "description": "",
       "description_allow_html": false,
       "layout": "IPY_MODEL_c8d7d3cb324a48babe3c11c662359b20",
       "placeholder": "​",
       "style": "IPY_MODEL_b49c445f5710469f8d58d21c75fe8acb",
       "tabbable": null,
       "tooltip": null,
       "value": " 3/3 [00:27&lt;00:00, 11.33s/it]"
      }
     },
     "42d14b8c1c244d538ae11eea4a4ac6ec": {
      "model_module": "@jupyter-widgets/controls",
      "model_module_version": "2.0.0",
      "model_name": "FloatProgressModel",
      "state": {
       "_dom_classes": [],
       "_model_module": "@jupyter-widgets/controls",
       "_model_module_version": "2.0.0",
       "_model_name": "FloatProgressModel",
       "_view_count": null,
       "_view_module": "@jupyter-widgets/controls",
       "_view_module_version": "2.0.0",
       "_view_name": "ProgressView",
       "bar_style": "success",
       "description": "",
       "description_allow_html": false,
       "layout": "IPY_MODEL_bc13bc3d24c54478b461961d4aad3c32",
       "max": 3.0,
       "min": 0.0,
       "orientation": "horizontal",
       "style": "IPY_MODEL_9d91bf062df5466eb1423bc2689ebb0a",
       "tabbable": null,
       "tooltip": null,
       "value": 3.0
      }
     },
     "7de78c9e1a3747fb8d076bac97afac83": {
      "model_module": "@jupyter-widgets/base",
      "model_module_version": "2.0.0",
      "model_name": "LayoutModel",
      "state": {
       "_model_module": "@jupyter-widgets/base",
       "_model_module_version": "2.0.0",
       "_model_name": "LayoutModel",
       "_view_count": null,
       "_view_module": "@jupyter-widgets/base",
       "_view_module_version": "2.0.0",
       "_view_name": "LayoutView",
       "align_content": null,
       "align_items": null,
       "align_self": null,
       "border_bottom": null,
       "border_left": null,
       "border_right": null,
       "border_top": null,
       "bottom": null,
       "display": null,
       "flex": null,
       "flex_flow": null,
       "grid_area": null,
       "grid_auto_columns": null,
       "grid_auto_flow": null,
       "grid_auto_rows": null,
       "grid_column": null,
       "grid_gap": null,
       "grid_row": null,
       "grid_template_areas": null,
       "grid_template_columns": null,
       "grid_template_rows": null,
       "height": null,
       "justify_content": null,
       "justify_items": null,
       "left": null,
       "margin": null,
       "max_height": null,
       "max_width": null,
       "min_height": null,
       "min_width": null,
       "object_fit": null,
       "object_position": null,
       "order": null,
       "overflow": null,
       "padding": null,
       "right": null,
       "top": null,
       "visibility": null,
       "width": null
      }
     },
     "8322d7852c7949a58258a9d67734b4bb": {
      "model_module": "@jupyter-widgets/controls",
      "model_module_version": "2.0.0",
      "model_name": "HTMLStyleModel",
      "state": {
       "_model_module": "@jupyter-widgets/controls",
       "_model_module_version": "2.0.0",
       "_model_name": "HTMLStyleModel",
       "_view_count": null,
       "_view_module": "@jupyter-widgets/base",
       "_view_module_version": "2.0.0",
       "_view_name": "StyleView",
       "background": null,
       "description_width": "",
       "font_size": null,
       "text_color": null
      }
     },
     "87839a962a284cf1ba45cb94c030af2c": {
      "model_module": "@jupyter-widgets/controls",
      "model_module_version": "2.0.0",
      "model_name": "HTMLModel",
      "state": {
       "_dom_classes": [],
       "_model_module": "@jupyter-widgets/controls",
       "_model_module_version": "2.0.0",
       "_model_name": "HTMLModel",
       "_view_count": null,
       "_view_module": "@jupyter-widgets/controls",
       "_view_module_version": "2.0.0",
       "_view_name": "HTMLView",
       "description": "",
       "description_allow_html": false,
       "layout": "IPY_MODEL_1fe4f063ba7548fa9fc7f230eadcf25c",
       "placeholder": "​",
       "style": "IPY_MODEL_8322d7852c7949a58258a9d67734b4bb",
       "tabbable": null,
       "tooltip": null,
       "value": "Starting: 100%"
      }
     },
     "9d91bf062df5466eb1423bc2689ebb0a": {
      "model_module": "@jupyter-widgets/controls",
      "model_module_version": "2.0.0",
      "model_name": "ProgressStyleModel",
      "state": {
       "_model_module": "@jupyter-widgets/controls",
       "_model_module_version": "2.0.0",
       "_model_name": "ProgressStyleModel",
       "_view_count": null,
       "_view_module": "@jupyter-widgets/base",
       "_view_module_version": "2.0.0",
       "_view_name": "StyleView",
       "bar_color": null,
       "description_width": ""
      }
     },
     "b49c445f5710469f8d58d21c75fe8acb": {
      "model_module": "@jupyter-widgets/controls",
      "model_module_version": "2.0.0",
      "model_name": "HTMLStyleModel",
      "state": {
       "_model_module": "@jupyter-widgets/controls",
       "_model_module_version": "2.0.0",
       "_model_name": "HTMLStyleModel",
       "_view_count": null,
       "_view_module": "@jupyter-widgets/base",
       "_view_module_version": "2.0.0",
       "_view_name": "StyleView",
       "background": null,
       "description_width": "",
       "font_size": null,
       "text_color": null
      }
     },
     "bc13bc3d24c54478b461961d4aad3c32": {
      "model_module": "@jupyter-widgets/base",
      "model_module_version": "2.0.0",
      "model_name": "LayoutModel",
      "state": {
       "_model_module": "@jupyter-widgets/base",
       "_model_module_version": "2.0.0",
       "_model_name": "LayoutModel",
       "_view_count": null,
       "_view_module": "@jupyter-widgets/base",
       "_view_module_version": "2.0.0",
       "_view_name": "LayoutView",
       "align_content": null,
       "align_items": null,
       "align_self": null,
       "border_bottom": null,
       "border_left": null,
       "border_right": null,
       "border_top": null,
       "bottom": null,
       "display": null,
       "flex": null,
       "flex_flow": null,
       "grid_area": null,
       "grid_auto_columns": null,
       "grid_auto_flow": null,
       "grid_auto_rows": null,
       "grid_column": null,
       "grid_gap": null,
       "grid_row": null,
       "grid_template_areas": null,
       "grid_template_columns": null,
       "grid_template_rows": null,
       "height": null,
       "justify_content": null,
       "justify_items": null,
       "left": null,
       "margin": null,
       "max_height": null,
       "max_width": null,
       "min_height": null,
       "min_width": null,
       "object_fit": null,
       "object_position": null,
       "order": null,
       "overflow": null,
       "padding": null,
       "right": null,
       "top": null,
       "visibility": null,
       "width": null
      }
     },
     "c8d7d3cb324a48babe3c11c662359b20": {
      "model_module": "@jupyter-widgets/base",
      "model_module_version": "2.0.0",
      "model_name": "LayoutModel",
      "state": {
       "_model_module": "@jupyter-widgets/base",
       "_model_module_version": "2.0.0",
       "_model_name": "LayoutModel",
       "_view_count": null,
       "_view_module": "@jupyter-widgets/base",
       "_view_module_version": "2.0.0",
       "_view_name": "LayoutView",
       "align_content": null,
       "align_items": null,
       "align_self": null,
       "border_bottom": null,
       "border_left": null,
       "border_right": null,
       "border_top": null,
       "bottom": null,
       "display": null,
       "flex": null,
       "flex_flow": null,
       "grid_area": null,
       "grid_auto_columns": null,
       "grid_auto_flow": null,
       "grid_auto_rows": null,
       "grid_column": null,
       "grid_gap": null,
       "grid_row": null,
       "grid_template_areas": null,
       "grid_template_columns": null,
       "grid_template_rows": null,
       "height": null,
       "justify_content": null,
       "justify_items": null,
       "left": null,
       "margin": null,
       "max_height": null,
       "max_width": null,
       "min_height": null,
       "min_width": null,
       "object_fit": null,
       "object_position": null,
       "order": null,
       "overflow": null,
       "padding": null,
       "right": null,
       "top": null,
       "visibility": null,
       "width": null
      }
     }
    },
    "version_major": 2,
    "version_minor": 0
   }
  }
 },
 "nbformat": 4,
 "nbformat_minor": 5
}
