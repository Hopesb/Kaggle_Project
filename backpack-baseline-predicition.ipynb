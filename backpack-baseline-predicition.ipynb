{
 "cells": [
  {
   "cell_type": "markdown",
   "id": "b93aa94f",
   "metadata": {
    "papermill": {
     "duration": 0.004604,
     "end_time": "2025-02-12T14:53:40.808742",
     "exception": false,
     "start_time": "2025-02-12T14:53:40.804138",
     "status": "completed"
    },
    "tags": []
   },
   "source": [
    "# Backpack Predition"
   ]
  },
  {
   "cell_type": "code",
   "execution_count": 1,
   "id": "5f5913ba",
   "metadata": {
    "execution": {
     "iopub.execute_input": "2025-02-12T14:53:40.818078Z",
     "iopub.status.busy": "2025-02-12T14:53:40.817678Z",
     "iopub.status.idle": "2025-02-12T14:53:49.373355Z",
     "shell.execute_reply": "2025-02-12T14:53:49.372317Z"
    },
    "papermill": {
     "duration": 8.562493,
     "end_time": "2025-02-12T14:53:49.375338",
     "exception": false,
     "start_time": "2025-02-12T14:53:40.812845",
     "status": "completed"
    },
    "tags": []
   },
   "outputs": [],
   "source": [
    "# import all necessary libraries.\n",
    "import pandas as pd\n",
    "import numpy as np\n",
    "\n",
    "import matplotlib.pyplot as plt\n",
    "import seaborn as sns\n",
    "import plotly_express as px\n",
    "\n",
    "import sklearn\n",
    "from sklearn.metrics import mean_squared_error\n",
    "from category_encoders import OneHotEncoder, OrdinalEncoder\n",
    "from sklearn.model_selection import train_test_split\n",
    "from sklearn.preprocessing import StandardScaler\n",
    "from sklearn.pipeline import make_pipeline\n",
    "from catboost import CatBoostRegressor\n",
    "from lightgbm import LGBMRegressor\n",
    "from xgboost import XGBRegressor\n",
    "from tqdm.notebook import tqdm\n",
    "import optuna\n",
    "import warnings\n",
    "warnings.simplefilter(\"ignore\")"
   ]
  },
  {
   "cell_type": "code",
   "execution_count": 2,
   "id": "054f7e3e",
   "metadata": {
    "execution": {
     "iopub.execute_input": "2025-02-12T14:53:49.385296Z",
     "iopub.status.busy": "2025-02-12T14:53:49.384413Z",
     "iopub.status.idle": "2025-02-12T14:53:50.607283Z",
     "shell.execute_reply": "2025-02-12T14:53:50.606116Z"
    },
    "papermill": {
     "duration": 1.229842,
     "end_time": "2025-02-12T14:53:50.609499",
     "exception": false,
     "start_time": "2025-02-12T14:53:49.379657",
     "status": "completed"
    },
    "tags": []
   },
   "outputs": [],
   "source": [
    "# Reading the files\n",
    "test_filepath = \"/kaggle/input/playground-series-s5e2/test.csv\"\n",
    "train_filepath = \"/kaggle/input/playground-series-s5e2/train.csv\"\n",
    "df = pd.read_csv(train_filepath, index_col=\"id\")\n",
    "df_test = pd.read_csv(test_filepath, index_col=\"id\")"
   ]
  },
  {
   "cell_type": "markdown",
   "id": "eb88d6da",
   "metadata": {
    "papermill": {
     "duration": 0.003937,
     "end_time": "2025-02-12T14:53:50.618052",
     "exception": false,
     "start_time": "2025-02-12T14:53:50.614115",
     "status": "completed"
    },
    "tags": []
   },
   "source": [
    "## Explore"
   ]
  },
  {
   "cell_type": "code",
   "execution_count": 3,
   "id": "bfee2cb4",
   "metadata": {
    "execution": {
     "iopub.execute_input": "2025-02-12T14:53:50.628370Z",
     "iopub.status.busy": "2025-02-12T14:53:50.627969Z",
     "iopub.status.idle": "2025-02-12T14:53:50.650776Z",
     "shell.execute_reply": "2025-02-12T14:53:50.649312Z"
    },
    "papermill": {
     "duration": 0.03029,
     "end_time": "2025-02-12T14:53:50.652738",
     "exception": false,
     "start_time": "2025-02-12T14:53:50.622448",
     "status": "completed"
    },
    "tags": []
   },
   "outputs": [
    {
     "name": "stdout",
     "output_type": "stream",
     "text": [
      "(300000, 10)\n"
     ]
    },
    {
     "data": {
      "text/html": [
       "<div>\n",
       "<style scoped>\n",
       "    .dataframe tbody tr th:only-of-type {\n",
       "        vertical-align: middle;\n",
       "    }\n",
       "\n",
       "    .dataframe tbody tr th {\n",
       "        vertical-align: top;\n",
       "    }\n",
       "\n",
       "    .dataframe thead th {\n",
       "        text-align: right;\n",
       "    }\n",
       "</style>\n",
       "<table border=\"1\" class=\"dataframe\">\n",
       "  <thead>\n",
       "    <tr style=\"text-align: right;\">\n",
       "      <th></th>\n",
       "      <th>Brand</th>\n",
       "      <th>Material</th>\n",
       "      <th>Size</th>\n",
       "      <th>Compartments</th>\n",
       "      <th>Laptop Compartment</th>\n",
       "      <th>Waterproof</th>\n",
       "      <th>Style</th>\n",
       "      <th>Color</th>\n",
       "      <th>Weight Capacity (kg)</th>\n",
       "      <th>Price</th>\n",
       "    </tr>\n",
       "    <tr>\n",
       "      <th>id</th>\n",
       "      <th></th>\n",
       "      <th></th>\n",
       "      <th></th>\n",
       "      <th></th>\n",
       "      <th></th>\n",
       "      <th></th>\n",
       "      <th></th>\n",
       "      <th></th>\n",
       "      <th></th>\n",
       "      <th></th>\n",
       "    </tr>\n",
       "  </thead>\n",
       "  <tbody>\n",
       "    <tr>\n",
       "      <th>0</th>\n",
       "      <td>Jansport</td>\n",
       "      <td>Leather</td>\n",
       "      <td>Medium</td>\n",
       "      <td>7.0</td>\n",
       "      <td>Yes</td>\n",
       "      <td>No</td>\n",
       "      <td>Tote</td>\n",
       "      <td>Black</td>\n",
       "      <td>11.611723</td>\n",
       "      <td>112.15875</td>\n",
       "    </tr>\n",
       "    <tr>\n",
       "      <th>1</th>\n",
       "      <td>Jansport</td>\n",
       "      <td>Canvas</td>\n",
       "      <td>Small</td>\n",
       "      <td>10.0</td>\n",
       "      <td>Yes</td>\n",
       "      <td>Yes</td>\n",
       "      <td>Messenger</td>\n",
       "      <td>Green</td>\n",
       "      <td>27.078537</td>\n",
       "      <td>68.88056</td>\n",
       "    </tr>\n",
       "    <tr>\n",
       "      <th>2</th>\n",
       "      <td>Under Armour</td>\n",
       "      <td>Leather</td>\n",
       "      <td>Small</td>\n",
       "      <td>2.0</td>\n",
       "      <td>Yes</td>\n",
       "      <td>No</td>\n",
       "      <td>Messenger</td>\n",
       "      <td>Red</td>\n",
       "      <td>16.643760</td>\n",
       "      <td>39.17320</td>\n",
       "    </tr>\n",
       "    <tr>\n",
       "      <th>3</th>\n",
       "      <td>Nike</td>\n",
       "      <td>Nylon</td>\n",
       "      <td>Small</td>\n",
       "      <td>8.0</td>\n",
       "      <td>Yes</td>\n",
       "      <td>No</td>\n",
       "      <td>Messenger</td>\n",
       "      <td>Green</td>\n",
       "      <td>12.937220</td>\n",
       "      <td>80.60793</td>\n",
       "    </tr>\n",
       "    <tr>\n",
       "      <th>4</th>\n",
       "      <td>Adidas</td>\n",
       "      <td>Canvas</td>\n",
       "      <td>Medium</td>\n",
       "      <td>1.0</td>\n",
       "      <td>Yes</td>\n",
       "      <td>Yes</td>\n",
       "      <td>Messenger</td>\n",
       "      <td>Green</td>\n",
       "      <td>17.749338</td>\n",
       "      <td>86.02312</td>\n",
       "    </tr>\n",
       "  </tbody>\n",
       "</table>\n",
       "</div>"
      ],
      "text/plain": [
       "           Brand Material    Size  Compartments Laptop Compartment Waterproof  \\\n",
       "id                                                                              \n",
       "0       Jansport  Leather  Medium           7.0                Yes         No   \n",
       "1       Jansport   Canvas   Small          10.0                Yes        Yes   \n",
       "2   Under Armour  Leather   Small           2.0                Yes         No   \n",
       "3           Nike    Nylon   Small           8.0                Yes         No   \n",
       "4         Adidas   Canvas  Medium           1.0                Yes        Yes   \n",
       "\n",
       "        Style  Color  Weight Capacity (kg)      Price  \n",
       "id                                                     \n",
       "0        Tote  Black             11.611723  112.15875  \n",
       "1   Messenger  Green             27.078537   68.88056  \n",
       "2   Messenger    Red             16.643760   39.17320  \n",
       "3   Messenger  Green             12.937220   80.60793  \n",
       "4   Messenger  Green             17.749338   86.02312  "
      ]
     },
     "execution_count": 3,
     "metadata": {},
     "output_type": "execute_result"
    }
   ],
   "source": [
    "print(df.shape)\n",
    "df.head()"
   ]
  },
  {
   "cell_type": "code",
   "execution_count": 4,
   "id": "39c54d07",
   "metadata": {
    "execution": {
     "iopub.execute_input": "2025-02-12T14:53:50.664665Z",
     "iopub.status.busy": "2025-02-12T14:53:50.664287Z",
     "iopub.status.idle": "2025-02-12T14:53:50.785319Z",
     "shell.execute_reply": "2025-02-12T14:53:50.783970Z"
    },
    "papermill": {
     "duration": 0.130274,
     "end_time": "2025-02-12T14:53:50.787978",
     "exception": false,
     "start_time": "2025-02-12T14:53:50.657704",
     "status": "completed"
    },
    "tags": []
   },
   "outputs": [
    {
     "name": "stdout",
     "output_type": "stream",
     "text": [
      "<class 'pandas.core.frame.DataFrame'>\n",
      "Index: 300000 entries, 0 to 299999\n",
      "Data columns (total 10 columns):\n",
      " #   Column                Non-Null Count   Dtype  \n",
      "---  ------                --------------   -----  \n",
      " 0   Brand                 290295 non-null  object \n",
      " 1   Material              291653 non-null  object \n",
      " 2   Size                  293405 non-null  object \n",
      " 3   Compartments          300000 non-null  float64\n",
      " 4   Laptop Compartment    292556 non-null  object \n",
      " 5   Waterproof            292950 non-null  object \n",
      " 6   Style                 292030 non-null  object \n",
      " 7   Color                 290050 non-null  object \n",
      " 8   Weight Capacity (kg)  299862 non-null  float64\n",
      " 9   Price                 300000 non-null  float64\n",
      "dtypes: float64(3), object(7)\n",
      "memory usage: 25.2+ MB\n"
     ]
    }
   ],
   "source": [
    "df.info()"
   ]
  },
  {
   "cell_type": "code",
   "execution_count": 5,
   "id": "a320ca92",
   "metadata": {
    "execution": {
     "iopub.execute_input": "2025-02-12T14:53:50.799504Z",
     "iopub.status.busy": "2025-02-12T14:53:50.799111Z",
     "iopub.status.idle": "2025-02-12T14:53:50.910639Z",
     "shell.execute_reply": "2025-02-12T14:53:50.909221Z"
    },
    "papermill": {
     "duration": 0.119097,
     "end_time": "2025-02-12T14:53:50.912416",
     "exception": false,
     "start_time": "2025-02-12T14:53:50.793319",
     "status": "completed"
    },
    "tags": []
   },
   "outputs": [
    {
     "data": {
      "text/plain": [
       "Compartments               0\n",
       "Price                      0\n",
       "Weight Capacity (kg)     138\n",
       "Size                    6595\n",
       "Waterproof              7050\n",
       "Laptop Compartment      7444\n",
       "Style                   7970\n",
       "Material                8347\n",
       "Brand                   9705\n",
       "Color                   9950\n",
       "dtype: int64"
      ]
     },
     "execution_count": 5,
     "metadata": {},
     "output_type": "execute_result"
    }
   ],
   "source": [
    "df.isnull().sum().sort_values()"
   ]
  },
  {
   "cell_type": "code",
   "execution_count": 6,
   "id": "65f4f644",
   "metadata": {
    "execution": {
     "iopub.execute_input": "2025-02-12T14:53:50.924199Z",
     "iopub.status.busy": "2025-02-12T14:53:50.923784Z",
     "iopub.status.idle": "2025-02-12T14:53:51.038280Z",
     "shell.execute_reply": "2025-02-12T14:53:51.037004Z"
    },
    "papermill": {
     "duration": 0.123221,
     "end_time": "2025-02-12T14:53:51.040452",
     "exception": false,
     "start_time": "2025-02-12T14:53:50.917231",
     "status": "completed"
    },
    "tags": []
   },
   "outputs": [
    {
     "data": {
      "text/plain": [
       "Laptop Compartment           2\n",
       "Waterproof                   2\n",
       "Size                         3\n",
       "Style                        3\n",
       "Material                     4\n",
       "Brand                        5\n",
       "Color                        6\n",
       "Compartments                10\n",
       "Price                    48212\n",
       "Weight Capacity (kg)    181596\n",
       "dtype: int64"
      ]
     },
     "execution_count": 6,
     "metadata": {},
     "output_type": "execute_result"
    }
   ],
   "source": [
    "df.nunique().sort_values()"
   ]
  },
  {
   "cell_type": "code",
   "execution_count": 7,
   "id": "84aa631a",
   "metadata": {
    "execution": {
     "iopub.execute_input": "2025-02-12T14:53:51.051362Z",
     "iopub.status.busy": "2025-02-12T14:53:51.051031Z",
     "iopub.status.idle": "2025-02-12T14:53:51.111078Z",
     "shell.execute_reply": "2025-02-12T14:53:51.110037Z"
    },
    "papermill": {
     "duration": 0.067497,
     "end_time": "2025-02-12T14:53:51.112855",
     "exception": false,
     "start_time": "2025-02-12T14:53:51.045358",
     "status": "completed"
    },
    "tags": []
   },
   "outputs": [
    {
     "data": {
      "text/html": [
       "<div>\n",
       "<style scoped>\n",
       "    .dataframe tbody tr th:only-of-type {\n",
       "        vertical-align: middle;\n",
       "    }\n",
       "\n",
       "    .dataframe tbody tr th {\n",
       "        vertical-align: top;\n",
       "    }\n",
       "\n",
       "    .dataframe thead th {\n",
       "        text-align: right;\n",
       "    }\n",
       "</style>\n",
       "<table border=\"1\" class=\"dataframe\">\n",
       "  <thead>\n",
       "    <tr style=\"text-align: right;\">\n",
       "      <th></th>\n",
       "      <th>Compartments</th>\n",
       "      <th>Weight Capacity (kg)</th>\n",
       "      <th>Price</th>\n",
       "    </tr>\n",
       "  </thead>\n",
       "  <tbody>\n",
       "    <tr>\n",
       "      <th>count</th>\n",
       "      <td>300000.000000</td>\n",
       "      <td>299862.000000</td>\n",
       "      <td>300000.000000</td>\n",
       "    </tr>\n",
       "    <tr>\n",
       "      <th>mean</th>\n",
       "      <td>5.443590</td>\n",
       "      <td>18.029994</td>\n",
       "      <td>81.411107</td>\n",
       "    </tr>\n",
       "    <tr>\n",
       "      <th>std</th>\n",
       "      <td>2.890766</td>\n",
       "      <td>6.966914</td>\n",
       "      <td>39.039340</td>\n",
       "    </tr>\n",
       "    <tr>\n",
       "      <th>min</th>\n",
       "      <td>1.000000</td>\n",
       "      <td>5.000000</td>\n",
       "      <td>15.000000</td>\n",
       "    </tr>\n",
       "    <tr>\n",
       "      <th>25%</th>\n",
       "      <td>3.000000</td>\n",
       "      <td>12.097867</td>\n",
       "      <td>47.384620</td>\n",
       "    </tr>\n",
       "    <tr>\n",
       "      <th>50%</th>\n",
       "      <td>5.000000</td>\n",
       "      <td>18.068614</td>\n",
       "      <td>80.956120</td>\n",
       "    </tr>\n",
       "    <tr>\n",
       "      <th>75%</th>\n",
       "      <td>8.000000</td>\n",
       "      <td>24.002375</td>\n",
       "      <td>115.018160</td>\n",
       "    </tr>\n",
       "    <tr>\n",
       "      <th>max</th>\n",
       "      <td>10.000000</td>\n",
       "      <td>30.000000</td>\n",
       "      <td>150.000000</td>\n",
       "    </tr>\n",
       "  </tbody>\n",
       "</table>\n",
       "</div>"
      ],
      "text/plain": [
       "        Compartments  Weight Capacity (kg)          Price\n",
       "count  300000.000000         299862.000000  300000.000000\n",
       "mean        5.443590             18.029994      81.411107\n",
       "std         2.890766              6.966914      39.039340\n",
       "min         1.000000              5.000000      15.000000\n",
       "25%         3.000000             12.097867      47.384620\n",
       "50%         5.000000             18.068614      80.956120\n",
       "75%         8.000000             24.002375     115.018160\n",
       "max        10.000000             30.000000     150.000000"
      ]
     },
     "execution_count": 7,
     "metadata": {},
     "output_type": "execute_result"
    }
   ],
   "source": [
    "df.describe()"
   ]
  },
  {
   "cell_type": "code",
   "execution_count": 8,
   "id": "82b5dbc7",
   "metadata": {
    "execution": {
     "iopub.execute_input": "2025-02-12T14:53:51.123958Z",
     "iopub.status.busy": "2025-02-12T14:53:51.123593Z",
     "iopub.status.idle": "2025-02-12T14:53:51.130125Z",
     "shell.execute_reply": "2025-02-12T14:53:51.129117Z"
    },
    "papermill": {
     "duration": 0.013773,
     "end_time": "2025-02-12T14:53:51.131738",
     "exception": false,
     "start_time": "2025-02-12T14:53:51.117965",
     "status": "completed"
    },
    "tags": []
   },
   "outputs": [],
   "source": [
    "def wrangle(filepath):\n",
    "    df = pd.read_csv(filepath, index_col= \"id\")\n",
    "    # Fill the weight with mean.\n",
    "    df[\"Weight Capacity (kg)\"] = df[\"Weight Capacity (kg)\"].fillna(df[\"Weight Capacity (kg)\"].mean())\n",
    "    # fill the color.\n",
    "    df[\"Color\"] = df[\"Color\"].fillna(\"Multi-color\")\n",
    "    # fill the Brand with unknown brand.\n",
    "    df[\"Brand\"] = df[\"Brand\"].fillna(\"Unknown\")\n",
    "    # fill the size.\n",
    "    df[\"Size\"] = df[\"Size\"].fillna(\"Others\")\n",
    "    # fill the waterproof.\n",
    "    df[\"Waterproof\"] = df[\"Waterproof\"].fillna(\"Undetermined\")\n",
    "    # fill the Laptop compartment.\n",
    "    df[\"Laptop Compartment\"] = df[\"Laptop Compartment\"].fillna(\"Unknown\")\n",
    "    # Fill the material ans style.\n",
    "    df[\"Material\"] = df[\"Material\"].fillna(\"Unknown\")\n",
    "    df[\"Style\"] = df[\"Style\"].fillna(\"Unknown\")\n",
    "\n",
    "    df[\"Compartments\"] = df[\"Compartments\"].astype(int)\n",
    "    df[\"Weight Capacity (kg)\"] = round(df[\"Weight Capacity (kg)\"], 2)\n",
    "    df[\"Weight Class\"] = df[\"Weight Capacity (kg)\"].apply(lambda x: \"Minimum\" if x < 10 else(\n",
    "        \"Above_Minimum\" if x < 15 else(\n",
    "            \"Medium\" if x < 25 else \"High\"\n",
    "        )\n",
    "    ))\n",
    "\n",
    "    return df"
   ]
  },
  {
   "cell_type": "code",
   "execution_count": 9,
   "id": "c11e7423",
   "metadata": {
    "execution": {
     "iopub.execute_input": "2025-02-12T14:53:51.142607Z",
     "iopub.status.busy": "2025-02-12T14:53:51.142255Z",
     "iopub.status.idle": "2025-02-12T14:53:51.954306Z",
     "shell.execute_reply": "2025-02-12T14:53:51.953263Z"
    },
    "papermill": {
     "duration": 0.819384,
     "end_time": "2025-02-12T14:53:51.955970",
     "exception": false,
     "start_time": "2025-02-12T14:53:51.136586",
     "status": "completed"
    },
    "tags": []
   },
   "outputs": [
    {
     "data": {
      "text/plain": [
       "Brand                   0\n",
       "Material                0\n",
       "Size                    0\n",
       "Compartments            0\n",
       "Laptop Compartment      0\n",
       "Waterproof              0\n",
       "Style                   0\n",
       "Color                   0\n",
       "Weight Capacity (kg)    0\n",
       "Price                   0\n",
       "Weight Class            0\n",
       "dtype: int64"
      ]
     },
     "execution_count": 9,
     "metadata": {},
     "output_type": "execute_result"
    }
   ],
   "source": [
    "df = wrangle(train_filepath)\n",
    "df.isnull().sum()"
   ]
  },
  {
   "cell_type": "code",
   "execution_count": 10,
   "id": "b87491d2",
   "metadata": {
    "execution": {
     "iopub.execute_input": "2025-02-12T14:53:51.967359Z",
     "iopub.status.busy": "2025-02-12T14:53:51.967002Z",
     "iopub.status.idle": "2025-02-12T14:53:51.981327Z",
     "shell.execute_reply": "2025-02-12T14:53:51.980352Z"
    },
    "papermill": {
     "duration": 0.021857,
     "end_time": "2025-02-12T14:53:51.982994",
     "exception": false,
     "start_time": "2025-02-12T14:53:51.961137",
     "status": "completed"
    },
    "tags": []
   },
   "outputs": [
    {
     "data": {
      "text/html": [
       "<div>\n",
       "<style scoped>\n",
       "    .dataframe tbody tr th:only-of-type {\n",
       "        vertical-align: middle;\n",
       "    }\n",
       "\n",
       "    .dataframe tbody tr th {\n",
       "        vertical-align: top;\n",
       "    }\n",
       "\n",
       "    .dataframe thead th {\n",
       "        text-align: right;\n",
       "    }\n",
       "</style>\n",
       "<table border=\"1\" class=\"dataframe\">\n",
       "  <thead>\n",
       "    <tr style=\"text-align: right;\">\n",
       "      <th></th>\n",
       "      <th>Brand</th>\n",
       "      <th>Material</th>\n",
       "      <th>Size</th>\n",
       "      <th>Compartments</th>\n",
       "      <th>Laptop Compartment</th>\n",
       "      <th>Waterproof</th>\n",
       "      <th>Style</th>\n",
       "      <th>Color</th>\n",
       "      <th>Weight Capacity (kg)</th>\n",
       "      <th>Price</th>\n",
       "      <th>Weight Class</th>\n",
       "    </tr>\n",
       "    <tr>\n",
       "      <th>id</th>\n",
       "      <th></th>\n",
       "      <th></th>\n",
       "      <th></th>\n",
       "      <th></th>\n",
       "      <th></th>\n",
       "      <th></th>\n",
       "      <th></th>\n",
       "      <th></th>\n",
       "      <th></th>\n",
       "      <th></th>\n",
       "      <th></th>\n",
       "    </tr>\n",
       "  </thead>\n",
       "  <tbody>\n",
       "    <tr>\n",
       "      <th>0</th>\n",
       "      <td>Jansport</td>\n",
       "      <td>Leather</td>\n",
       "      <td>Medium</td>\n",
       "      <td>7</td>\n",
       "      <td>Yes</td>\n",
       "      <td>No</td>\n",
       "      <td>Tote</td>\n",
       "      <td>Black</td>\n",
       "      <td>11.61</td>\n",
       "      <td>112.15875</td>\n",
       "      <td>Above_Minimum</td>\n",
       "    </tr>\n",
       "    <tr>\n",
       "      <th>1</th>\n",
       "      <td>Jansport</td>\n",
       "      <td>Canvas</td>\n",
       "      <td>Small</td>\n",
       "      <td>10</td>\n",
       "      <td>Yes</td>\n",
       "      <td>Yes</td>\n",
       "      <td>Messenger</td>\n",
       "      <td>Green</td>\n",
       "      <td>27.08</td>\n",
       "      <td>68.88056</td>\n",
       "      <td>High</td>\n",
       "    </tr>\n",
       "    <tr>\n",
       "      <th>2</th>\n",
       "      <td>Under Armour</td>\n",
       "      <td>Leather</td>\n",
       "      <td>Small</td>\n",
       "      <td>2</td>\n",
       "      <td>Yes</td>\n",
       "      <td>No</td>\n",
       "      <td>Messenger</td>\n",
       "      <td>Red</td>\n",
       "      <td>16.64</td>\n",
       "      <td>39.17320</td>\n",
       "      <td>Medium</td>\n",
       "    </tr>\n",
       "    <tr>\n",
       "      <th>3</th>\n",
       "      <td>Nike</td>\n",
       "      <td>Nylon</td>\n",
       "      <td>Small</td>\n",
       "      <td>8</td>\n",
       "      <td>Yes</td>\n",
       "      <td>No</td>\n",
       "      <td>Messenger</td>\n",
       "      <td>Green</td>\n",
       "      <td>12.94</td>\n",
       "      <td>80.60793</td>\n",
       "      <td>Above_Minimum</td>\n",
       "    </tr>\n",
       "    <tr>\n",
       "      <th>4</th>\n",
       "      <td>Adidas</td>\n",
       "      <td>Canvas</td>\n",
       "      <td>Medium</td>\n",
       "      <td>1</td>\n",
       "      <td>Yes</td>\n",
       "      <td>Yes</td>\n",
       "      <td>Messenger</td>\n",
       "      <td>Green</td>\n",
       "      <td>17.75</td>\n",
       "      <td>86.02312</td>\n",
       "      <td>Medium</td>\n",
       "    </tr>\n",
       "  </tbody>\n",
       "</table>\n",
       "</div>"
      ],
      "text/plain": [
       "           Brand Material    Size  Compartments Laptop Compartment Waterproof  \\\n",
       "id                                                                              \n",
       "0       Jansport  Leather  Medium             7                Yes         No   \n",
       "1       Jansport   Canvas   Small            10                Yes        Yes   \n",
       "2   Under Armour  Leather   Small             2                Yes         No   \n",
       "3           Nike    Nylon   Small             8                Yes         No   \n",
       "4         Adidas   Canvas  Medium             1                Yes        Yes   \n",
       "\n",
       "        Style  Color  Weight Capacity (kg)      Price   Weight Class  \n",
       "id                                                                    \n",
       "0        Tote  Black                 11.61  112.15875  Above_Minimum  \n",
       "1   Messenger  Green                 27.08   68.88056           High  \n",
       "2   Messenger    Red                 16.64   39.17320         Medium  \n",
       "3   Messenger  Green                 12.94   80.60793  Above_Minimum  \n",
       "4   Messenger  Green                 17.75   86.02312         Medium  "
      ]
     },
     "execution_count": 10,
     "metadata": {},
     "output_type": "execute_result"
    }
   ],
   "source": [
    "df.head()"
   ]
  },
  {
   "cell_type": "markdown",
   "id": "1fa1f875",
   "metadata": {
    "execution": {
     "iopub.execute_input": "2025-02-12T11:21:24.727092Z",
     "iopub.status.busy": "2025-02-12T11:21:24.726182Z",
     "iopub.status.idle": "2025-02-12T11:21:24.731927Z",
     "shell.execute_reply": "2025-02-12T11:21:24.730394Z",
     "shell.execute_reply.started": "2025-02-12T11:21:24.727055Z"
    },
    "papermill": {
     "duration": 0.004691,
     "end_time": "2025-02-12T14:53:51.992827",
     "exception": false,
     "start_time": "2025-02-12T14:53:51.988136",
     "status": "completed"
    },
    "tags": []
   },
   "source": [
    "## Split Dataset."
   ]
  },
  {
   "cell_type": "code",
   "execution_count": 11,
   "id": "59795a92",
   "metadata": {
    "execution": {
     "iopub.execute_input": "2025-02-12T14:53:52.004245Z",
     "iopub.status.busy": "2025-02-12T14:53:52.003838Z",
     "iopub.status.idle": "2025-02-12T14:53:52.125987Z",
     "shell.execute_reply": "2025-02-12T14:53:52.125084Z"
    },
    "papermill": {
     "duration": 0.129923,
     "end_time": "2025-02-12T14:53:52.127747",
     "exception": false,
     "start_time": "2025-02-12T14:53:51.997824",
     "status": "completed"
    },
    "tags": []
   },
   "outputs": [],
   "source": [
    "target = \"Price\"\n",
    "X = df.drop(columns= target)\n",
    "y = df[target]\n",
    "\n",
    "X_train, X_test, y_train, y_test = train_test_split(X, y, test_size=0.2, random_state=42)"
   ]
  },
  {
   "cell_type": "markdown",
   "id": "219c1742",
   "metadata": {
    "papermill": {
     "duration": 0.004829,
     "end_time": "2025-02-12T14:53:52.138155",
     "exception": false,
     "start_time": "2025-02-12T14:53:52.133326",
     "status": "completed"
    },
    "tags": []
   },
   "source": [
    "## Model."
   ]
  },
  {
   "cell_type": "code",
   "execution_count": 12,
   "id": "b94dd9fa",
   "metadata": {
    "execution": {
     "iopub.execute_input": "2025-02-12T14:53:52.149662Z",
     "iopub.status.busy": "2025-02-12T14:53:52.149296Z",
     "iopub.status.idle": "2025-02-12T14:53:52.155787Z",
     "shell.execute_reply": "2025-02-12T14:53:52.154845Z"
    },
    "papermill": {
     "duration": 0.014116,
     "end_time": "2025-02-12T14:53:52.157412",
     "exception": false,
     "start_time": "2025-02-12T14:53:52.143296",
     "status": "completed"
    },
    "tags": []
   },
   "outputs": [],
   "source": [
    "# Create a function that takes in a list of algortithm and then make the prediction then save the prediction.\n",
    "def score_predict(algorithms, X_train, X_test, y_train, y_test, test_df=None, save=True): \n",
    "\n",
    "    data_dict = {}\n",
    "    # loop throught the algorithms.\n",
    "    for algorithm in tqdm(algorithms, desc=\"Starting\"):\n",
    "        # make the pipeline\n",
    "        model = make_pipeline(\n",
    "            OrdinalEncoder(),\n",
    "            StandardScaler(),\n",
    "            algorithm\n",
    "        )\n",
    "        # Fitting the model.\n",
    "        alg_name = list(model.named_steps.keys())[-1]\n",
    "        print(f\"Fitting the {alg_name}\")\n",
    "        model.fit(X_train, y_train)\n",
    "        # Get the score.\n",
    "        print(\"Making Prediction\")\n",
    "        y_test_pred = model.predict(X_test)\n",
    "        score = np.sqrt(mean_squared_error(y_test, y_test_pred))\n",
    "        data_dict[alg_name] = score\n",
    "\n",
    "        if save == True:\n",
    "            y_pred = model.predict(test_df)\n",
    "            pd.DataFrame({\"Price\": y_pred}, index=test_df.index).to_csv(f\"{alg_name}.csv\")\n",
    "\n",
    "    score_df = pd.DataFrame(data_dict, index=[\"Accuracy\"]).T\n",
    "    return score_df"
   ]
  },
  {
   "cell_type": "code",
   "execution_count": 13,
   "id": "975e5cec",
   "metadata": {
    "execution": {
     "iopub.execute_input": "2025-02-12T14:53:52.169293Z",
     "iopub.status.busy": "2025-02-12T14:53:52.168896Z",
     "iopub.status.idle": "2025-02-12T14:53:52.630201Z",
     "shell.execute_reply": "2025-02-12T14:53:52.628915Z"
    },
    "papermill": {
     "duration": 0.469469,
     "end_time": "2025-02-12T14:53:52.632162",
     "exception": false,
     "start_time": "2025-02-12T14:53:52.162693",
     "status": "completed"
    },
    "tags": []
   },
   "outputs": [],
   "source": [
    "test_df = wrangle(test_filepath)"
   ]
  },
  {
   "cell_type": "code",
   "execution_count": 14,
   "id": "33b3e6f2",
   "metadata": {
    "execution": {
     "iopub.execute_input": "2025-02-12T14:53:52.644116Z",
     "iopub.status.busy": "2025-02-12T14:53:52.643743Z",
     "iopub.status.idle": "2025-02-12T14:54:18.407967Z",
     "shell.execute_reply": "2025-02-12T14:54:18.406947Z"
    },
    "papermill": {
     "duration": 25.772037,
     "end_time": "2025-02-12T14:54:18.409715",
     "exception": false,
     "start_time": "2025-02-12T14:53:52.637678",
     "status": "completed"
    },
    "tags": []
   },
   "outputs": [
    {
     "data": {
      "application/vnd.jupyter.widget-view+json": {
       "model_id": "7cb8d94a1dd4427fb7fe29b4bcb75114",
       "version_major": 2,
       "version_minor": 0
      },
      "text/plain": [
       "Starting:   0%|          | 0/3 [00:00<?, ?it/s]"
      ]
     },
     "metadata": {},
     "output_type": "display_data"
    },
    {
     "name": "stdout",
     "output_type": "stream",
     "text": [
      "Fitting the lgbmregressor\n",
      "Making Prediction\n",
      "Fitting the xgbregressor\n",
      "Making Prediction\n",
      "Fitting the catboostregressor\n",
      "Making Prediction\n"
     ]
    },
    {
     "data": {
      "text/html": [
       "<div>\n",
       "<style scoped>\n",
       "    .dataframe tbody tr th:only-of-type {\n",
       "        vertical-align: middle;\n",
       "    }\n",
       "\n",
       "    .dataframe tbody tr th {\n",
       "        vertical-align: top;\n",
       "    }\n",
       "\n",
       "    .dataframe thead th {\n",
       "        text-align: right;\n",
       "    }\n",
       "</style>\n",
       "<table border=\"1\" class=\"dataframe\">\n",
       "  <thead>\n",
       "    <tr style=\"text-align: right;\">\n",
       "      <th></th>\n",
       "      <th>Accuracy</th>\n",
       "    </tr>\n",
       "  </thead>\n",
       "  <tbody>\n",
       "    <tr>\n",
       "      <th>lgbmregressor</th>\n",
       "      <td>38.910749</td>\n",
       "    </tr>\n",
       "    <tr>\n",
       "      <th>xgbregressor</th>\n",
       "      <td>39.068247</td>\n",
       "    </tr>\n",
       "    <tr>\n",
       "      <th>catboostregressor</th>\n",
       "      <td>38.962801</td>\n",
       "    </tr>\n",
       "  </tbody>\n",
       "</table>\n",
       "</div>"
      ],
      "text/plain": [
       "                    Accuracy\n",
       "lgbmregressor      38.910749\n",
       "xgbregressor       39.068247\n",
       "catboostregressor  38.962801"
      ]
     },
     "execution_count": 14,
     "metadata": {},
     "output_type": "execute_result"
    }
   ],
   "source": [
    "algorithms = [LGBMRegressor(verbose=-1, random_state=42),\n",
    "             XGBRegressor(random_state=42),\n",
    "             CatBoostRegressor(verbose=0, random_state=42)]\n",
    "score = score_predict(algorithms, X_train, X_test, y_train, y_test, test_df)\n",
    "score"
   ]
  }
 ],
 "metadata": {
  "kaggle": {
   "accelerator": "none",
   "dataSources": [
    {
     "databundleVersionId": 10995111,
     "sourceId": 90274,
     "sourceType": "competition"
    }
   ],
   "dockerImageVersionId": 30839,
   "isGpuEnabled": false,
   "isInternetEnabled": true,
   "language": "python",
   "sourceType": "notebook"
  },
  "kernelspec": {
   "display_name": "Python 3",
   "language": "python",
   "name": "python3"
  },
  "language_info": {
   "codemirror_mode": {
    "name": "ipython",
    "version": 3
   },
   "file_extension": ".py",
   "mimetype": "text/x-python",
   "name": "python",
   "nbconvert_exporter": "python",
   "pygments_lexer": "ipython3",
   "version": "3.10.12"
  },
  "papermill": {
   "default_parameters": {},
   "duration": 41.975253,
   "end_time": "2025-02-12T14:54:19.840184",
   "environment_variables": {},
   "exception": null,
   "input_path": "__notebook__.ipynb",
   "output_path": "__notebook__.ipynb",
   "parameters": {},
   "start_time": "2025-02-12T14:53:37.864931",
   "version": "2.6.0"
  },
  "widgets": {
   "application/vnd.jupyter.widget-state+json": {
    "state": {
     "090569af7a04407c96b17ea0eed70783": {
      "model_module": "@jupyter-widgets/base",
      "model_module_version": "2.0.0",
      "model_name": "LayoutModel",
      "state": {
       "_model_module": "@jupyter-widgets/base",
       "_model_module_version": "2.0.0",
       "_model_name": "LayoutModel",
       "_view_count": null,
       "_view_module": "@jupyter-widgets/base",
       "_view_module_version": "2.0.0",
       "_view_name": "LayoutView",
       "align_content": null,
       "align_items": null,
       "align_self": null,
       "border_bottom": null,
       "border_left": null,
       "border_right": null,
       "border_top": null,
       "bottom": null,
       "display": null,
       "flex": null,
       "flex_flow": null,
       "grid_area": null,
       "grid_auto_columns": null,
       "grid_auto_flow": null,
       "grid_auto_rows": null,
       "grid_column": null,
       "grid_gap": null,
       "grid_row": null,
       "grid_template_areas": null,
       "grid_template_columns": null,
       "grid_template_rows": null,
       "height": null,
       "justify_content": null,
       "justify_items": null,
       "left": null,
       "margin": null,
       "max_height": null,
       "max_width": null,
       "min_height": null,
       "min_width": null,
       "object_fit": null,
       "object_position": null,
       "order": null,
       "overflow": null,
       "padding": null,
       "right": null,
       "top": null,
       "visibility": null,
       "width": null
      }
     },
     "104d2620eb074703a90f6bad6b5a790e": {
      "model_module": "@jupyter-widgets/controls",
      "model_module_version": "2.0.0",
      "model_name": "HTMLModel",
      "state": {
       "_dom_classes": [],
       "_model_module": "@jupyter-widgets/controls",
       "_model_module_version": "2.0.0",
       "_model_name": "HTMLModel",
       "_view_count": null,
       "_view_module": "@jupyter-widgets/controls",
       "_view_module_version": "2.0.0",
       "_view_name": "HTMLView",
       "description": "",
       "description_allow_html": false,
       "layout": "IPY_MODEL_2aec641e473541598565aa260055cf83",
       "placeholder": "​",
       "style": "IPY_MODEL_edd33cd01d1349cebfc6d9212150889f",
       "tabbable": null,
       "tooltip": null,
       "value": "Starting: 100%"
      }
     },
     "2aec641e473541598565aa260055cf83": {
      "model_module": "@jupyter-widgets/base",
      "model_module_version": "2.0.0",
      "model_name": "LayoutModel",
      "state": {
       "_model_module": "@jupyter-widgets/base",
       "_model_module_version": "2.0.0",
       "_model_name": "LayoutModel",
       "_view_count": null,
       "_view_module": "@jupyter-widgets/base",
       "_view_module_version": "2.0.0",
       "_view_name": "LayoutView",
       "align_content": null,
       "align_items": null,
       "align_self": null,
       "border_bottom": null,
       "border_left": null,
       "border_right": null,
       "border_top": null,
       "bottom": null,
       "display": null,
       "flex": null,
       "flex_flow": null,
       "grid_area": null,
       "grid_auto_columns": null,
       "grid_auto_flow": null,
       "grid_auto_rows": null,
       "grid_column": null,
       "grid_gap": null,
       "grid_row": null,
       "grid_template_areas": null,
       "grid_template_columns": null,
       "grid_template_rows": null,
       "height": null,
       "justify_content": null,
       "justify_items": null,
       "left": null,
       "margin": null,
       "max_height": null,
       "max_width": null,
       "min_height": null,
       "min_width": null,
       "object_fit": null,
       "object_position": null,
       "order": null,
       "overflow": null,
       "padding": null,
       "right": null,
       "top": null,
       "visibility": null,
       "width": null
      }
     },
     "557a8f7eef9a4dc7956c2458d542489c": {
      "model_module": "@jupyter-widgets/controls",
      "model_module_version": "2.0.0",
      "model_name": "HTMLStyleModel",
      "state": {
       "_model_module": "@jupyter-widgets/controls",
       "_model_module_version": "2.0.0",
       "_model_name": "HTMLStyleModel",
       "_view_count": null,
       "_view_module": "@jupyter-widgets/base",
       "_view_module_version": "2.0.0",
       "_view_name": "StyleView",
       "background": null,
       "description_width": "",
       "font_size": null,
       "text_color": null
      }
     },
     "76b0619ebe0b40f19ddf87a69885a0cf": {
      "model_module": "@jupyter-widgets/base",
      "model_module_version": "2.0.0",
      "model_name": "LayoutModel",
      "state": {
       "_model_module": "@jupyter-widgets/base",
       "_model_module_version": "2.0.0",
       "_model_name": "LayoutModel",
       "_view_count": null,
       "_view_module": "@jupyter-widgets/base",
       "_view_module_version": "2.0.0",
       "_view_name": "LayoutView",
       "align_content": null,
       "align_items": null,
       "align_self": null,
       "border_bottom": null,
       "border_left": null,
       "border_right": null,
       "border_top": null,
       "bottom": null,
       "display": null,
       "flex": null,
       "flex_flow": null,
       "grid_area": null,
       "grid_auto_columns": null,
       "grid_auto_flow": null,
       "grid_auto_rows": null,
       "grid_column": null,
       "grid_gap": null,
       "grid_row": null,
       "grid_template_areas": null,
       "grid_template_columns": null,
       "grid_template_rows": null,
       "height": null,
       "justify_content": null,
       "justify_items": null,
       "left": null,
       "margin": null,
       "max_height": null,
       "max_width": null,
       "min_height": null,
       "min_width": null,
       "object_fit": null,
       "object_position": null,
       "order": null,
       "overflow": null,
       "padding": null,
       "right": null,
       "top": null,
       "visibility": null,
       "width": null
      }
     },
     "7cb8d94a1dd4427fb7fe29b4bcb75114": {
      "model_module": "@jupyter-widgets/controls",
      "model_module_version": "2.0.0",
      "model_name": "HBoxModel",
      "state": {
       "_dom_classes": [],
       "_model_module": "@jupyter-widgets/controls",
       "_model_module_version": "2.0.0",
       "_model_name": "HBoxModel",
       "_view_count": null,
       "_view_module": "@jupyter-widgets/controls",
       "_view_module_version": "2.0.0",
       "_view_name": "HBoxView",
       "box_style": "",
       "children": [
        "IPY_MODEL_104d2620eb074703a90f6bad6b5a790e",
        "IPY_MODEL_a6e7681a0e2147c7891378f824e19e1f",
        "IPY_MODEL_c691cd901d8842cc81841bcb705a33e0"
       ],
       "layout": "IPY_MODEL_76b0619ebe0b40f19ddf87a69885a0cf",
       "tabbable": null,
       "tooltip": null
      }
     },
     "82d33ede15bb46189bc58a12803defef": {
      "model_module": "@jupyter-widgets/controls",
      "model_module_version": "2.0.0",
      "model_name": "ProgressStyleModel",
      "state": {
       "_model_module": "@jupyter-widgets/controls",
       "_model_module_version": "2.0.0",
       "_model_name": "ProgressStyleModel",
       "_view_count": null,
       "_view_module": "@jupyter-widgets/base",
       "_view_module_version": "2.0.0",
       "_view_name": "StyleView",
       "bar_color": null,
       "description_width": ""
      }
     },
     "a6e7681a0e2147c7891378f824e19e1f": {
      "model_module": "@jupyter-widgets/controls",
      "model_module_version": "2.0.0",
      "model_name": "FloatProgressModel",
      "state": {
       "_dom_classes": [],
       "_model_module": "@jupyter-widgets/controls",
       "_model_module_version": "2.0.0",
       "_model_name": "FloatProgressModel",
       "_view_count": null,
       "_view_module": "@jupyter-widgets/controls",
       "_view_module_version": "2.0.0",
       "_view_name": "ProgressView",
       "bar_style": "success",
       "description": "",
       "description_allow_html": false,
       "layout": "IPY_MODEL_a7d5a847c8f046588fb18b13603c308f",
       "max": 3.0,
       "min": 0.0,
       "orientation": "horizontal",
       "style": "IPY_MODEL_82d33ede15bb46189bc58a12803defef",
       "tabbable": null,
       "tooltip": null,
       "value": 3.0
      }
     },
     "a7d5a847c8f046588fb18b13603c308f": {
      "model_module": "@jupyter-widgets/base",
      "model_module_version": "2.0.0",
      "model_name": "LayoutModel",
      "state": {
       "_model_module": "@jupyter-widgets/base",
       "_model_module_version": "2.0.0",
       "_model_name": "LayoutModel",
       "_view_count": null,
       "_view_module": "@jupyter-widgets/base",
       "_view_module_version": "2.0.0",
       "_view_name": "LayoutView",
       "align_content": null,
       "align_items": null,
       "align_self": null,
       "border_bottom": null,
       "border_left": null,
       "border_right": null,
       "border_top": null,
       "bottom": null,
       "display": null,
       "flex": null,
       "flex_flow": null,
       "grid_area": null,
       "grid_auto_columns": null,
       "grid_auto_flow": null,
       "grid_auto_rows": null,
       "grid_column": null,
       "grid_gap": null,
       "grid_row": null,
       "grid_template_areas": null,
       "grid_template_columns": null,
       "grid_template_rows": null,
       "height": null,
       "justify_content": null,
       "justify_items": null,
       "left": null,
       "margin": null,
       "max_height": null,
       "max_width": null,
       "min_height": null,
       "min_width": null,
       "object_fit": null,
       "object_position": null,
       "order": null,
       "overflow": null,
       "padding": null,
       "right": null,
       "top": null,
       "visibility": null,
       "width": null
      }
     },
     "c691cd901d8842cc81841bcb705a33e0": {
      "model_module": "@jupyter-widgets/controls",
      "model_module_version": "2.0.0",
      "model_name": "HTMLModel",
      "state": {
       "_dom_classes": [],
       "_model_module": "@jupyter-widgets/controls",
       "_model_module_version": "2.0.0",
       "_model_name": "HTMLModel",
       "_view_count": null,
       "_view_module": "@jupyter-widgets/controls",
       "_view_module_version": "2.0.0",
       "_view_name": "HTMLView",
       "description": "",
       "description_allow_html": false,
       "layout": "IPY_MODEL_090569af7a04407c96b17ea0eed70783",
       "placeholder": "​",
       "style": "IPY_MODEL_557a8f7eef9a4dc7956c2458d542489c",
       "tabbable": null,
       "tooltip": null,
       "value": " 3/3 [00:25&lt;00:00, 10.63s/it]"
      }
     },
     "edd33cd01d1349cebfc6d9212150889f": {
      "model_module": "@jupyter-widgets/controls",
      "model_module_version": "2.0.0",
      "model_name": "HTMLStyleModel",
      "state": {
       "_model_module": "@jupyter-widgets/controls",
       "_model_module_version": "2.0.0",
       "_model_name": "HTMLStyleModel",
       "_view_count": null,
       "_view_module": "@jupyter-widgets/base",
       "_view_module_version": "2.0.0",
       "_view_name": "StyleView",
       "background": null,
       "description_width": "",
       "font_size": null,
       "text_color": null
      }
     }
    },
    "version_major": 2,
    "version_minor": 0
   }
  }
 },
 "nbformat": 4,
 "nbformat_minor": 5
}
